{
 "cells": [
  {
   "cell_type": "markdown",
   "metadata": {},
   "source": [
    " # Iteration 02 Data Wrangling - On Your Toes (Part 2) \n",
    "\n",
    "Last Update : 14 May 2020\n",
    "Version : 1.0\n",
    "\n",
    "Data Sets analysed: Indooor Activities\n",
    "\n",
    "* Grid view.csv \n",
    "* edited_exercises.csv (Manually filtered version of the \"Grid view.csv\" file, based on research )\n",
    "\n",
    "In this notebook, Crime datasets used in the On Your Toes - The fitness app are put through data wrangling tasks to inspect data, clean up and create custom datasets to be exported to the MySQL database.\n",
    "\n",
    "\n",
    "Detailed data plan :https://mahara.infotech.monash.edu.au/mahara/artefact/file/download.php?file=239816"
   ]
  },
  {
   "cell_type": "markdown",
   "metadata": {},
   "source": [
    "-----------------------------------------------------------------"
   ]
  },
  {
   "cell_type": "markdown",
   "metadata": {},
   "source": [
    "#### Import Libraries and Packages"
   ]
  },
  {
   "cell_type": "code",
   "execution_count": 1,
   "metadata": {},
   "outputs": [],
   "source": [
    "import pandas as pd\n",
    "import numpy as np\n",
    "import re\n"
   ]
  },
  {
   "cell_type": "markdown",
   "metadata": {},
   "source": [
    "#### Import datasets"
   ]
  },
  {
   "cell_type": "code",
   "execution_count": 2,
   "metadata": {},
   "outputs": [
    {
     "data": {
      "text/html": [
       "<div>\n",
       "<style scoped>\n",
       "    .dataframe tbody tr th:only-of-type {\n",
       "        vertical-align: middle;\n",
       "    }\n",
       "\n",
       "    .dataframe tbody tr th {\n",
       "        vertical-align: top;\n",
       "    }\n",
       "\n",
       "    .dataframe thead th {\n",
       "        text-align: right;\n",
       "    }\n",
       "</style>\n",
       "<table border=\"1\" class=\"dataframe\">\n",
       "  <thead>\n",
       "    <tr style=\"text-align: right;\">\n",
       "      <th></th>\n",
       "      <th>Exercise</th>\n",
       "      <th>Equipment</th>\n",
       "      <th>Exercise Type</th>\n",
       "      <th>Major Muscle</th>\n",
       "      <th>Minor Muscle</th>\n",
       "      <th>Example</th>\n",
       "      <th>Notes</th>\n",
       "      <th>Modifications</th>\n",
       "    </tr>\n",
       "  </thead>\n",
       "  <tbody>\n",
       "    <tr>\n",
       "      <th>0</th>\n",
       "      <td>Arnold Press</td>\n",
       "      <td>Dumbbells</td>\n",
       "      <td>Weight</td>\n",
       "      <td>Arms</td>\n",
       "      <td>Bicep,Shoulders</td>\n",
       "      <td>giphy-2.gif (https://dl.airtable.com/FvaObZ1Sy...</td>\n",
       "      <td>NaN</td>\n",
       "      <td>NaN</td>\n",
       "    </tr>\n",
       "    <tr>\n",
       "      <th>1</th>\n",
       "      <td>Bicep Curl</td>\n",
       "      <td>Bar,Dumbbells,Cable</td>\n",
       "      <td>Weight,Machine</td>\n",
       "      <td>Arms</td>\n",
       "      <td>Bicep</td>\n",
       "      <td>3e8b7121-738e-4457-b6d8-fd3a3e04de5a.gif (http...</td>\n",
       "      <td>Don't use momentum. Make sure the movement is ...</td>\n",
       "      <td>NaN</td>\n",
       "    </tr>\n",
       "    <tr>\n",
       "      <th>2</th>\n",
       "      <td>Bicycle Crunch</td>\n",
       "      <td>Body Weight</td>\n",
       "      <td>Weight</td>\n",
       "      <td>Core</td>\n",
       "      <td>NaN</td>\n",
       "      <td>200.gif (https://dl.airtable.com/Y0JUbM2YTfe8u...</td>\n",
       "      <td>The lower the \"straight\" leg is to the ground ...</td>\n",
       "      <td>Easier: Move Slower, Legs higher in the air\\nH...</td>\n",
       "    </tr>\n",
       "  </tbody>\n",
       "</table>\n",
       "</div>"
      ],
      "text/plain": [
       "         Exercise            Equipment   Exercise Type Major Muscle  \\\n",
       "0    Arnold Press            Dumbbells          Weight         Arms   \n",
       "1      Bicep Curl  Bar,Dumbbells,Cable  Weight,Machine         Arms   \n",
       "2  Bicycle Crunch          Body Weight          Weight         Core   \n",
       "\n",
       "      Minor Muscle                                            Example  \\\n",
       "0  Bicep,Shoulders  giphy-2.gif (https://dl.airtable.com/FvaObZ1Sy...   \n",
       "1            Bicep  3e8b7121-738e-4457-b6d8-fd3a3e04de5a.gif (http...   \n",
       "2              NaN  200.gif (https://dl.airtable.com/Y0JUbM2YTfe8u...   \n",
       "\n",
       "                                               Notes  \\\n",
       "0                                                NaN   \n",
       "1  Don't use momentum. Make sure the movement is ...   \n",
       "2  The lower the \"straight\" leg is to the ground ...   \n",
       "\n",
       "                                       Modifications  \n",
       "0                                                NaN  \n",
       "1                                                NaN  \n",
       "2  Easier: Move Slower, Legs higher in the air\\nH...  "
      ]
     },
     "execution_count": 2,
     "metadata": {},
     "output_type": "execute_result"
    }
   ],
   "source": [
    "dataset = pd.read_csv(\"Grid view.csv\")\n",
    "dataset.head(3)"
   ]
  },
  {
   "cell_type": "code",
   "execution_count": 3,
   "metadata": {},
   "outputs": [
    {
     "data": {
      "text/html": [
       "<div>\n",
       "<style scoped>\n",
       "    .dataframe tbody tr th:only-of-type {\n",
       "        vertical-align: middle;\n",
       "    }\n",
       "\n",
       "    .dataframe tbody tr th {\n",
       "        vertical-align: top;\n",
       "    }\n",
       "\n",
       "    .dataframe thead th {\n",
       "        text-align: right;\n",
       "    }\n",
       "</style>\n",
       "<table border=\"1\" class=\"dataframe\">\n",
       "  <thead>\n",
       "    <tr style=\"text-align: right;\">\n",
       "      <th></th>\n",
       "      <th>Exercise</th>\n",
       "      <th>Equipment</th>\n",
       "      <th>Exercise Type</th>\n",
       "      <th>Muscle Group</th>\n",
       "      <th>Notes</th>\n",
       "      <th>Modifications</th>\n",
       "      <th>Alt Equip</th>\n",
       "      <th>Sets</th>\n",
       "      <th>Reps</th>\n",
       "    </tr>\n",
       "  </thead>\n",
       "  <tbody>\n",
       "    <tr>\n",
       "      <th>0</th>\n",
       "      <td>Arnold Press</td>\n",
       "      <td>Dumbbells</td>\n",
       "      <td>Weight</td>\n",
       "      <td>Arms - Bicep,Shoulders</td>\n",
       "      <td>NaN</td>\n",
       "      <td>NaN</td>\n",
       "      <td>Filled water bottle 1L = 1Kg, band</td>\n",
       "      <td>2-3</td>\n",
       "      <td>10-12</td>\n",
       "    </tr>\n",
       "    <tr>\n",
       "      <th>1</th>\n",
       "      <td>Bicep Curl</td>\n",
       "      <td>Bar,Dumbbells,Cable</td>\n",
       "      <td>Weight,Machine</td>\n",
       "      <td>Arms -Bicep</td>\n",
       "      <td>Don't use momentum. Make sure the movement is ...</td>\n",
       "      <td>NaN</td>\n",
       "      <td>Filled water bottle 1L = 1Kg</td>\n",
       "      <td>2-3</td>\n",
       "      <td>10-15</td>\n",
       "    </tr>\n",
       "    <tr>\n",
       "      <th>2</th>\n",
       "      <td>Bicycle Crunch</td>\n",
       "      <td>Body Weight</td>\n",
       "      <td>Weight</td>\n",
       "      <td>Core</td>\n",
       "      <td>The lower the \"straight\" leg is to the ground ...</td>\n",
       "      <td>Easier: Move Slower, Legs higher in the air\\nH...</td>\n",
       "      <td>NaN</td>\n",
       "      <td>3 -4</td>\n",
       "      <td>10-15</td>\n",
       "    </tr>\n",
       "  </tbody>\n",
       "</table>\n",
       "</div>"
      ],
      "text/plain": [
       "         Exercise            Equipment   Exercise Type  \\\n",
       "0    Arnold Press            Dumbbells          Weight   \n",
       "1      Bicep Curl  Bar,Dumbbells,Cable  Weight,Machine   \n",
       "2  Bicycle Crunch          Body Weight          Weight   \n",
       "\n",
       "             Muscle Group                                              Notes  \\\n",
       "0  Arms - Bicep,Shoulders                                                NaN   \n",
       "1             Arms -Bicep  Don't use momentum. Make sure the movement is ...   \n",
       "2                    Core  The lower the \"straight\" leg is to the ground ...   \n",
       "\n",
       "                                       Modifications  \\\n",
       "0                                                NaN   \n",
       "1                                                NaN   \n",
       "2  Easier: Move Slower, Legs higher in the air\\nH...   \n",
       "\n",
       "                            Alt Equip  Sets   Reps  \n",
       "0  Filled water bottle 1L = 1Kg, band   2-3  10-12  \n",
       "1        Filled water bottle 1L = 1Kg   2-3  10-15  \n",
       "2                                 NaN  3 -4  10-15  "
      ]
     },
     "execution_count": 3,
     "metadata": {},
     "output_type": "execute_result"
    }
   ],
   "source": [
    "edited_dataset = pd.read_csv(\"edited_exercises.csv\")\n",
    "edited_dataset.head(3)"
   ]
  },
  {
   "cell_type": "markdown",
   "metadata": {},
   "source": [
    "#### Merge the filtered datatset with original dataset to include the weblinks of exercise gifs"
   ]
  },
  {
   "cell_type": "code",
   "execution_count": 4,
   "metadata": {},
   "outputs": [
    {
     "data": {
      "text/plain": [
       "44"
      ]
     },
     "execution_count": 4,
     "metadata": {},
     "output_type": "execute_result"
    }
   ],
   "source": [
    "exercises_export = pd.merge(edited_dataset, dataset, how='left', on=['Exercise', 'Exercise'])\n",
    "len(exercises_export)"
   ]
  },
  {
   "cell_type": "markdown",
   "metadata": {},
   "source": [
    "#### Remove unnecessary columns form the dataset"
   ]
  },
  {
   "cell_type": "code",
   "execution_count": 5,
   "metadata": {},
   "outputs": [
    {
     "data": {
      "text/plain": [
       "Index(['Exercise', 'Equipment_x', 'Exercise Type_x', 'Muscle Group', 'Notes_x',\n",
       "       'Modifications_x', 'Alt Equip', 'Sets', 'Reps', 'Equipment_y',\n",
       "       'Exercise Type_y', 'Major Muscle', 'Minor Muscle', 'Example', 'Notes_y',\n",
       "       'Modifications_y'],\n",
       "      dtype='object')"
      ]
     },
     "execution_count": 5,
     "metadata": {},
     "output_type": "execute_result"
    }
   ],
   "source": [
    "exercises_export.columns"
   ]
  },
  {
   "cell_type": "code",
   "execution_count": 6,
   "metadata": {},
   "outputs": [],
   "source": [
    "exercises_export=exercises_export[['Exercise', 'Equipment_x', 'Exercise Type_x', 'Muscle Group', 'Notes_x',\n",
    "       'Modifications_x', 'Alt Equip', 'Sets', 'Reps','Example']]"
   ]
  },
  {
   "cell_type": "markdown",
   "metadata": {},
   "source": [
    "#### Reanme columns affected by the merge statement in previos steps"
   ]
  },
  {
   "cell_type": "code",
   "execution_count": 7,
   "metadata": {},
   "outputs": [
    {
     "data": {
      "text/html": [
       "<div>\n",
       "<style scoped>\n",
       "    .dataframe tbody tr th:only-of-type {\n",
       "        vertical-align: middle;\n",
       "    }\n",
       "\n",
       "    .dataframe tbody tr th {\n",
       "        vertical-align: top;\n",
       "    }\n",
       "\n",
       "    .dataframe thead th {\n",
       "        text-align: right;\n",
       "    }\n",
       "</style>\n",
       "<table border=\"1\" class=\"dataframe\">\n",
       "  <thead>\n",
       "    <tr style=\"text-align: right;\">\n",
       "      <th></th>\n",
       "      <th>Exercise</th>\n",
       "      <th>Equipment</th>\n",
       "      <th>ExerciseType</th>\n",
       "      <th>MuscleGroup</th>\n",
       "      <th>Notes</th>\n",
       "      <th>Modifications</th>\n",
       "      <th>AlternateEquipments</th>\n",
       "      <th>Sets</th>\n",
       "      <th>Reps</th>\n",
       "      <th>Example</th>\n",
       "    </tr>\n",
       "  </thead>\n",
       "  <tbody>\n",
       "    <tr>\n",
       "      <th>0</th>\n",
       "      <td>Arnold Press</td>\n",
       "      <td>Dumbbells</td>\n",
       "      <td>Weight</td>\n",
       "      <td>Arms - Bicep,Shoulders</td>\n",
       "      <td>NaN</td>\n",
       "      <td>NaN</td>\n",
       "      <td>Filled water bottle 1L = 1Kg, band</td>\n",
       "      <td>2-3</td>\n",
       "      <td>10-12</td>\n",
       "      <td>giphy-2.gif (https://dl.airtable.com/FvaObZ1Sy...</td>\n",
       "    </tr>\n",
       "    <tr>\n",
       "      <th>1</th>\n",
       "      <td>Bicep Curl</td>\n",
       "      <td>Bar,Dumbbells,Cable</td>\n",
       "      <td>Weight,Machine</td>\n",
       "      <td>Arms -Bicep</td>\n",
       "      <td>Don't use momentum. Make sure the movement is ...</td>\n",
       "      <td>NaN</td>\n",
       "      <td>Filled water bottle 1L = 1Kg</td>\n",
       "      <td>2-3</td>\n",
       "      <td>10-15</td>\n",
       "      <td>3e8b7121-738e-4457-b6d8-fd3a3e04de5a.gif (http...</td>\n",
       "    </tr>\n",
       "    <tr>\n",
       "      <th>2</th>\n",
       "      <td>Bicycle Crunch</td>\n",
       "      <td>Body Weight</td>\n",
       "      <td>Weight</td>\n",
       "      <td>Core</td>\n",
       "      <td>The lower the \"straight\" leg is to the ground ...</td>\n",
       "      <td>Easier: Move Slower, Legs higher in the air\\nH...</td>\n",
       "      <td>NaN</td>\n",
       "      <td>3 -4</td>\n",
       "      <td>10-15</td>\n",
       "      <td>200.gif (https://dl.airtable.com/Y0JUbM2YTfe8u...</td>\n",
       "    </tr>\n",
       "    <tr>\n",
       "      <th>3</th>\n",
       "      <td>Bounds</td>\n",
       "      <td>Body Weight</td>\n",
       "      <td>Cardio,Laps</td>\n",
       "      <td>Full Body,Legs - Outer Thigh,Glutes</td>\n",
       "      <td>Do laps across the room of these.</td>\n",
       "      <td>Easier: Don't jump as high/far\\nHarder: Touch ...</td>\n",
       "      <td>NaN</td>\n",
       "      <td>2-3</td>\n",
       "      <td>10-15</td>\n",
       "      <td>1ea07303-2e87-4876-8e68-8944edd42173.gif (http...</td>\n",
       "    </tr>\n",
       "    <tr>\n",
       "      <th>4</th>\n",
       "      <td>Box Toe Touch</td>\n",
       "      <td>Platform</td>\n",
       "      <td>Cardio</td>\n",
       "      <td>Legs - Glutes</td>\n",
       "      <td>Take care when doing the activity</td>\n",
       "      <td>Easier: Don't use a box, just practice toe tou...</td>\n",
       "      <td>Chair, Climbing stairs</td>\n",
       "      <td>1-2</td>\n",
       "      <td>8-10</td>\n",
       "      <td>workoutanniversarygif9570.gif (https://dl.airt...</td>\n",
       "    </tr>\n",
       "  </tbody>\n",
       "</table>\n",
       "</div>"
      ],
      "text/plain": [
       "         Exercise            Equipment    ExerciseType  \\\n",
       "0    Arnold Press            Dumbbells          Weight   \n",
       "1      Bicep Curl  Bar,Dumbbells,Cable  Weight,Machine   \n",
       "2  Bicycle Crunch          Body Weight          Weight   \n",
       "3          Bounds          Body Weight     Cardio,Laps   \n",
       "4   Box Toe Touch             Platform          Cardio   \n",
       "\n",
       "                           MuscleGroup  \\\n",
       "0               Arms - Bicep,Shoulders   \n",
       "1                          Arms -Bicep   \n",
       "2                                 Core   \n",
       "3  Full Body,Legs - Outer Thigh,Glutes   \n",
       "4                        Legs - Glutes   \n",
       "\n",
       "                                               Notes  \\\n",
       "0                                                NaN   \n",
       "1  Don't use momentum. Make sure the movement is ...   \n",
       "2  The lower the \"straight\" leg is to the ground ...   \n",
       "3                  Do laps across the room of these.   \n",
       "4                  Take care when doing the activity   \n",
       "\n",
       "                                       Modifications  \\\n",
       "0                                                NaN   \n",
       "1                                                NaN   \n",
       "2  Easier: Move Slower, Legs higher in the air\\nH...   \n",
       "3  Easier: Don't jump as high/far\\nHarder: Touch ...   \n",
       "4  Easier: Don't use a box, just practice toe tou...   \n",
       "\n",
       "                  AlternateEquipments  Sets   Reps  \\\n",
       "0  Filled water bottle 1L = 1Kg, band   2-3  10-12   \n",
       "1        Filled water bottle 1L = 1Kg   2-3  10-15   \n",
       "2                                 NaN  3 -4  10-15   \n",
       "3                                 NaN   2-3  10-15   \n",
       "4              Chair, Climbing stairs   1-2   8-10   \n",
       "\n",
       "                                             Example  \n",
       "0  giphy-2.gif (https://dl.airtable.com/FvaObZ1Sy...  \n",
       "1  3e8b7121-738e-4457-b6d8-fd3a3e04de5a.gif (http...  \n",
       "2  200.gif (https://dl.airtable.com/Y0JUbM2YTfe8u...  \n",
       "3  1ea07303-2e87-4876-8e68-8944edd42173.gif (http...  \n",
       "4  workoutanniversarygif9570.gif (https://dl.airt...  "
      ]
     },
     "execution_count": 7,
     "metadata": {},
     "output_type": "execute_result"
    }
   ],
   "source": [
    "exercises_export.rename(columns={'Equipment_x':'Equipment','Exercise Type_x':'ExerciseType','Notes_x':'Notes','Modifications_x':'Modifications','Alt Equip':'AlternateEquipments', 'Muscle Group':'MuscleGroup'}, inplace=True)\n",
    "exercises_export.head()"
   ]
  },
  {
   "cell_type": "markdown",
   "metadata": {},
   "source": [
    "#### Filter in the bodyweight exercises to include in the final dataset\n",
    "\n",
    "This was done because travellers have limited access to specific exercise instruments in their accomodations"
   ]
  },
  {
   "cell_type": "code",
   "execution_count": 8,
   "metadata": {},
   "outputs": [
    {
     "data": {
      "text/html": [
       "<div>\n",
       "<style scoped>\n",
       "    .dataframe tbody tr th:only-of-type {\n",
       "        vertical-align: middle;\n",
       "    }\n",
       "\n",
       "    .dataframe tbody tr th {\n",
       "        vertical-align: top;\n",
       "    }\n",
       "\n",
       "    .dataframe thead th {\n",
       "        text-align: right;\n",
       "    }\n",
       "</style>\n",
       "<table border=\"1\" class=\"dataframe\">\n",
       "  <thead>\n",
       "    <tr style=\"text-align: right;\">\n",
       "      <th></th>\n",
       "      <th>Exercise</th>\n",
       "      <th>Equipment</th>\n",
       "      <th>ExerciseType</th>\n",
       "      <th>MuscleGroup</th>\n",
       "      <th>Notes</th>\n",
       "      <th>Modifications</th>\n",
       "      <th>AlternateEquipments</th>\n",
       "      <th>Sets</th>\n",
       "      <th>Reps</th>\n",
       "      <th>Example</th>\n",
       "    </tr>\n",
       "  </thead>\n",
       "  <tbody>\n",
       "    <tr>\n",
       "      <th>2</th>\n",
       "      <td>Bicycle Crunch</td>\n",
       "      <td>Body Weight</td>\n",
       "      <td>Weight</td>\n",
       "      <td>Core</td>\n",
       "      <td>The lower the \"straight\" leg is to the ground ...</td>\n",
       "      <td>Easier: Move Slower, Legs higher in the air\\nH...</td>\n",
       "      <td>NaN</td>\n",
       "      <td>3 -4</td>\n",
       "      <td>10-15</td>\n",
       "      <td>200.gif (https://dl.airtable.com/Y0JUbM2YTfe8u...</td>\n",
       "    </tr>\n",
       "    <tr>\n",
       "      <th>3</th>\n",
       "      <td>Bounds</td>\n",
       "      <td>Body Weight</td>\n",
       "      <td>Cardio,Laps</td>\n",
       "      <td>Full Body,Legs - Outer Thigh,Glutes</td>\n",
       "      <td>Do laps across the room of these.</td>\n",
       "      <td>Easier: Don't jump as high/far\\nHarder: Touch ...</td>\n",
       "      <td>NaN</td>\n",
       "      <td>2-3</td>\n",
       "      <td>10-15</td>\n",
       "      <td>1ea07303-2e87-4876-8e68-8944edd42173.gif (http...</td>\n",
       "    </tr>\n",
       "    <tr>\n",
       "      <th>5</th>\n",
       "      <td>Burpee</td>\n",
       "      <td>Body Weight,Bosu Ball</td>\n",
       "      <td>Plyo</td>\n",
       "      <td>Full Body</td>\n",
       "      <td>Option with half Bosu, Pushup Optional. Make s...</td>\n",
       "      <td>Easier: Don't Jump after, and break down motio...</td>\n",
       "      <td>NaN</td>\n",
       "      <td>1-2</td>\n",
       "      <td>10-12</td>\n",
       "      <td>Burpee.gif (https://dl.airtable.com/xDZ3bhDQqG...</td>\n",
       "    </tr>\n",
       "  </tbody>\n",
       "</table>\n",
       "</div>"
      ],
      "text/plain": [
       "         Exercise              Equipment ExerciseType  \\\n",
       "2  Bicycle Crunch            Body Weight       Weight   \n",
       "3          Bounds            Body Weight  Cardio,Laps   \n",
       "5          Burpee  Body Weight,Bosu Ball         Plyo   \n",
       "\n",
       "                           MuscleGroup  \\\n",
       "2                                 Core   \n",
       "3  Full Body,Legs - Outer Thigh,Glutes   \n",
       "5                            Full Body   \n",
       "\n",
       "                                               Notes  \\\n",
       "2  The lower the \"straight\" leg is to the ground ...   \n",
       "3                  Do laps across the room of these.   \n",
       "5  Option with half Bosu, Pushup Optional. Make s...   \n",
       "\n",
       "                                       Modifications AlternateEquipments  \\\n",
       "2  Easier: Move Slower, Legs higher in the air\\nH...                 NaN   \n",
       "3  Easier: Don't jump as high/far\\nHarder: Touch ...                 NaN   \n",
       "5  Easier: Don't Jump after, and break down motio...                 NaN   \n",
       "\n",
       "   Sets   Reps                                            Example  \n",
       "2  3 -4  10-15  200.gif (https://dl.airtable.com/Y0JUbM2YTfe8u...  \n",
       "3   2-3  10-15  1ea07303-2e87-4876-8e68-8944edd42173.gif (http...  \n",
       "5   1-2  10-12  Burpee.gif (https://dl.airtable.com/xDZ3bhDQqG...  "
      ]
     },
     "execution_count": 8,
     "metadata": {},
     "output_type": "execute_result"
    }
   ],
   "source": [
    "exercises_export = exercises_export[exercises_export['Equipment'].isin(['Body Weight','Body Weight,Bosu Ball'])]\n",
    "exercises_export.head(3)"
   ]
  },
  {
   "cell_type": "markdown",
   "metadata": {},
   "source": [
    "#### Remove the unnecessary columns in the dataset"
   ]
  },
  {
   "cell_type": "code",
   "execution_count": 9,
   "metadata": {},
   "outputs": [],
   "source": [
    "exercises_export = exercises_export[['Exercise','ExerciseType','MuscleGroup','Modifications','Sets','Reps','Example']]\n"
   ]
  },
  {
   "cell_type": "markdown",
   "metadata": {},
   "source": [
    "#### Extract hyperlinks from the Example column using regular expression"
   ]
  },
  {
   "cell_type": "code",
   "execution_count": 10,
   "metadata": {},
   "outputs": [],
   "source": [
    "exercises_export['Example'] = exercises_export['Example'] .str.extract('\\(([^)]+)\\)')"
   ]
  },
  {
   "cell_type": "markdown",
   "metadata": {},
   "source": [
    "#### Replace Nan with None"
   ]
  },
  {
   "cell_type": "code",
   "execution_count": 11,
   "metadata": {},
   "outputs": [],
   "source": [
    "exercises_export = exercises_export.where(pd.notnull(exercises_export), 'None')\n",
    "exercises_export = exercises_export.reset_index(drop=True)"
   ]
  },
  {
   "cell_type": "markdown",
   "metadata": {},
   "source": [
    "#### Export dataset"
   ]
  },
  {
   "cell_type": "code",
   "execution_count": 12,
   "metadata": {},
   "outputs": [],
   "source": [
    "exercises_export.to_csv('Exercises_Export.csv',index= False)"
   ]
  },
  {
   "cell_type": "markdown",
   "metadata": {},
   "source": [
    "\n",
    "---------------------------------\n",
    "\n",
    "#### Export file produced : `Exercises_Export.csv`\n",
    "\n",
    "## End of data wrangling process for iteration 02 (Part 2)"
   ]
  }
 ],
 "metadata": {
  "kernelspec": {
   "display_name": "Python 3",
   "language": "python",
   "name": "python3"
  },
  "language_info": {
   "codemirror_mode": {
    "name": "ipython",
    "version": 3
   },
   "file_extension": ".py",
   "mimetype": "text/x-python",
   "name": "python",
   "nbconvert_exporter": "python",
   "pygments_lexer": "ipython3",
   "version": "3.6.7"
  }
 },
 "nbformat": 4,
 "nbformat_minor": 2
}
