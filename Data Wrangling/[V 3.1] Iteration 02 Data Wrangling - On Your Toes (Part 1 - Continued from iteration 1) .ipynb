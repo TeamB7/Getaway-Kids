{
 "cells": [
  {
   "cell_type": "markdown",
   "metadata": {},
   "source": [
    "# Iteration 02 Data Wrangling - On Your Toes (Part 1 - Continued from iteration 1) \n",
    "\n",
    "\n",
    "Created Date : 23 April 2020\n",
    "\n",
    "Version : 3.1\n",
    "\n",
    "Last Update : 15 May 2020\n",
    "\n",
    "\n",
    "Data Sets analysed:\n",
    "\n",
    "\n",
    "* Crime Data : Data Tables - LGA Criminal Incidents Visualisation - year ending December 2019\n",
    "* VIC_LOCALITY_POLYGON_shp.shp\n",
    "* Offence_Severity_Levels.csv (Custom dataset)\n",
    "\n",
    "In this notebook, the crime dataset `Table 03 Criminal incidents by principal offence, local government area and postcode or suburb/town - January 2010 to December 2019` is put through the wrangling tasks performed in iteration 1 and joined with new location information `VIC_LOCALITY_POLYGON_shp.shp` in order to create a meanningful map that indicates crime level of each suburb.\n",
    "\n",
    "\n",
    "Detailed data plan : https://mahara.infotech.monash.edu.au/mahara/artefact/file/download.php?file=239816"
   ]
  },
  {
   "cell_type": "markdown",
   "metadata": {},
   "source": [
    "-------------------------------------------------------------"
   ]
  },
  {
   "cell_type": "markdown",
   "metadata": {},
   "source": [
    "#### Import Libraries and Packages"
   ]
  },
  {
   "cell_type": "code",
   "execution_count": 1,
   "metadata": {},
   "outputs": [],
   "source": [
    "import pandas as pd\n",
    "import numpy as np\n",
    "import shapefile as shp\n",
    "import re\n",
    "from shapely.geometry import Point, Polygon"
   ]
  },
  {
   "cell_type": "markdown",
   "metadata": {},
   "source": [
    "------------------------------------------------------"
   ]
  },
  {
   "cell_type": "markdown",
   "metadata": {},
   "source": [
    "## Crime Data\n",
    "\n",
    "### Dataset Info\n",
    "\n",
    "Name: Data Tables - LGA Criminal Incidents Visualisation - year ending December 2019\n",
    "\n",
    "Description: Table 03 Criminal incidents by principal offence, local government area and postcode or suburb/town - January 2010 to December 2019 \n",
    "\n",
    "Link : https://www.crimestatistics.vic.gov.au/sites/default/files/embridge_cache/emshare/original/public/users/202003/e7/d73f8b607/Data_Tables_LGA_Recorded_Offences_Year_Ending_December_2019.xlsx\n",
    "\n",
    "Permissions : CC BY 4.0"
   ]
  },
  {
   "cell_type": "markdown",
   "metadata": {},
   "source": [
    "### Wrangling tasks\n",
    "\n",
    "\n",
    "Read data into python and examine the column names"
   ]
  },
  {
   "cell_type": "code",
   "execution_count": 2,
   "metadata": {},
   "outputs": [
    {
     "name": "stdout",
     "output_type": "stream",
     "text": [
      "Dataset shape :  (309358, 9)\n",
      "Index(['Year', 'Year ending', 'Local Government Area', 'Postcode',\n",
      "       'Suburb/Town Name', 'Offence Division', 'Offence Subdivision',\n",
      "       'Offence Subgroup', 'Incidents Recorded'],\n",
      "      dtype='object')\n"
     ]
    }
   ],
   "source": [
    "crime_df = pd.read_excel('Data_Tables_LGA_Criminal_Incidents_Year_Ending_December_2019.xlsx','Table 03')\n",
    "print(\"Dataset shape : \",crime_df.shape)\n",
    "print(crime_df.columns)"
   ]
  },
  {
   "cell_type": "markdown",
   "metadata": {},
   "source": [
    "Check dataset for null values"
   ]
  },
  {
   "cell_type": "code",
   "execution_count": 3,
   "metadata": {},
   "outputs": [
    {
     "data": {
      "text/plain": [
       "Year                     0\n",
       "Year ending              0\n",
       "Local Government Area    0\n",
       "Postcode                 0\n",
       "Suburb/Town Name         0\n",
       "Offence Division         0\n",
       "Offence Subdivision      0\n",
       "Offence Subgroup         0\n",
       "Incidents Recorded       0\n",
       "dtype: int64"
      ]
     },
     "execution_count": 3,
     "metadata": {},
     "output_type": "execute_result"
    }
   ],
   "source": [
    "crime_df.isnull().sum()"
   ]
  },
  {
   "cell_type": "markdown",
   "metadata": {},
   "source": [
    "Check dataset for duplicate values"
   ]
  },
  {
   "cell_type": "code",
   "execution_count": 4,
   "metadata": {},
   "outputs": [
    {
     "name": "stdout",
     "output_type": "stream",
     "text": [
      "Number of duplicate rows :  0\n"
     ]
    }
   ],
   "source": [
    "print(\"Number of duplicate rows : \",len(crime_df[crime_df.duplicated(subset=None, keep='first')]))"
   ]
  },
  {
   "cell_type": "markdown",
   "metadata": {},
   "source": [
    "------------------------------------------------------------------------\n"
   ]
  },
  {
   "cell_type": "markdown",
   "metadata": {},
   "source": [
    "Create \"Suburb, Postcode\" column for easy data filtering"
   ]
  },
  {
   "cell_type": "code",
   "execution_count": 5,
   "metadata": {},
   "outputs": [
    {
     "data": {
      "text/html": [
       "<div>\n",
       "<style scoped>\n",
       "    .dataframe tbody tr th:only-of-type {\n",
       "        vertical-align: middle;\n",
       "    }\n",
       "\n",
       "    .dataframe tbody tr th {\n",
       "        vertical-align: top;\n",
       "    }\n",
       "\n",
       "    .dataframe thead th {\n",
       "        text-align: right;\n",
       "    }\n",
       "</style>\n",
       "<table border=\"1\" class=\"dataframe\">\n",
       "  <thead>\n",
       "    <tr style=\"text-align: right;\">\n",
       "      <th></th>\n",
       "      <th>Year</th>\n",
       "      <th>Year ending</th>\n",
       "      <th>Local Government Area</th>\n",
       "      <th>Postcode</th>\n",
       "      <th>Suburb/Town Name</th>\n",
       "      <th>Offence Division</th>\n",
       "      <th>Offence Subdivision</th>\n",
       "      <th>Offence Subgroup</th>\n",
       "      <th>Incidents Recorded</th>\n",
       "      <th>SuburbPostcode</th>\n",
       "    </tr>\n",
       "  </thead>\n",
       "  <tbody>\n",
       "    <tr>\n",
       "      <th>0</th>\n",
       "      <td>2019</td>\n",
       "      <td>December</td>\n",
       "      <td>Alpine</td>\n",
       "      <td>3691</td>\n",
       "      <td>Dederang</td>\n",
       "      <td>B Property and deception offences</td>\n",
       "      <td>B30 Burglary/Break and enter</td>\n",
       "      <td>B321 Residential non-aggravated burglary</td>\n",
       "      <td>1</td>\n",
       "      <td>Dederang, 3691</td>\n",
       "    </tr>\n",
       "    <tr>\n",
       "      <th>1</th>\n",
       "      <td>2019</td>\n",
       "      <td>December</td>\n",
       "      <td>Alpine</td>\n",
       "      <td>3691</td>\n",
       "      <td>Dederang</td>\n",
       "      <td>E Justice procedures offences</td>\n",
       "      <td>E10 Justice procedures</td>\n",
       "      <td>E14 Pervert the course of justice or commit pe...</td>\n",
       "      <td>1</td>\n",
       "      <td>Dederang, 3691</td>\n",
       "    </tr>\n",
       "    <tr>\n",
       "      <th>2</th>\n",
       "      <td>2019</td>\n",
       "      <td>December</td>\n",
       "      <td>Alpine</td>\n",
       "      <td>3691</td>\n",
       "      <td>Dederang</td>\n",
       "      <td>A Crimes against the person</td>\n",
       "      <td>A20 Assault and related offences</td>\n",
       "      <td>A212 Non-FV Serious assault</td>\n",
       "      <td>1</td>\n",
       "      <td>Dederang, 3691</td>\n",
       "    </tr>\n",
       "  </tbody>\n",
       "</table>\n",
       "</div>"
      ],
      "text/plain": [
       "   Year Year ending Local Government Area Postcode Suburb/Town Name  \\\n",
       "0  2019    December                Alpine     3691         Dederang   \n",
       "1  2019    December                Alpine     3691         Dederang   \n",
       "2  2019    December                Alpine     3691         Dederang   \n",
       "\n",
       "                    Offence Division               Offence Subdivision  \\\n",
       "0  B Property and deception offences      B30 Burglary/Break and enter   \n",
       "1      E Justice procedures offences            E10 Justice procedures   \n",
       "2        A Crimes against the person  A20 Assault and related offences   \n",
       "\n",
       "                                    Offence Subgroup  Incidents Recorded  \\\n",
       "0           B321 Residential non-aggravated burglary                   1   \n",
       "1  E14 Pervert the course of justice or commit pe...                   1   \n",
       "2                        A212 Non-FV Serious assault                   1   \n",
       "\n",
       "   SuburbPostcode  \n",
       "0  Dederang, 3691  \n",
       "1  Dederang, 3691  \n",
       "2  Dederang, 3691  "
      ]
     },
     "execution_count": 5,
     "metadata": {},
     "output_type": "execute_result"
    }
   ],
   "source": [
    "# Convert columns to string data type\n",
    "crime_df[\"Suburb/Town Name\"] = crime_df[\"Suburb/Town Name\"].astype(str)\n",
    "crime_df[\"Postcode\"]=crime_df[\"Postcode\"].astype(str)\n",
    "\n",
    "# Add new column \"Suburb, Postcode\" to the dataset\n",
    "crime_df[\"SuburbPostcode\"] = crime_df[\"Suburb/Town Name\"] +\", \"+ crime_df[\"Postcode\"]\n",
    "crime_df.head(3)"
   ]
  },
  {
   "cell_type": "markdown",
   "metadata": {},
   "source": [
    "------------------------"
   ]
  },
  {
   "cell_type": "markdown",
   "metadata": {},
   "source": [
    "Create a subset of the dataset that contains the local government area and the suburb from the crime_df dataset"
   ]
  },
  {
   "cell_type": "code",
   "execution_count": 6,
   "metadata": {},
   "outputs": [
    {
     "name": "stdout",
     "output_type": "stream",
     "text": [
      "Length of lga_suburb dataset :  3126\n"
     ]
    },
    {
     "data": {
      "text/html": [
       "<div>\n",
       "<style scoped>\n",
       "    .dataframe tbody tr th:only-of-type {\n",
       "        vertical-align: middle;\n",
       "    }\n",
       "\n",
       "    .dataframe tbody tr th {\n",
       "        vertical-align: top;\n",
       "    }\n",
       "\n",
       "    .dataframe thead th {\n",
       "        text-align: right;\n",
       "    }\n",
       "</style>\n",
       "<table border=\"1\" class=\"dataframe\">\n",
       "  <thead>\n",
       "    <tr style=\"text-align: right;\">\n",
       "      <th></th>\n",
       "      <th>LGA</th>\n",
       "      <th>SuburbPostcode</th>\n",
       "    </tr>\n",
       "  </thead>\n",
       "  <tbody>\n",
       "    <tr>\n",
       "      <th>0</th>\n",
       "      <td>Alpine</td>\n",
       "      <td>Dederang, 3691</td>\n",
       "    </tr>\n",
       "    <tr>\n",
       "      <th>7</th>\n",
       "      <td>Alpine</td>\n",
       "      <td>Glen Creek, 3691</td>\n",
       "    </tr>\n",
       "  </tbody>\n",
       "</table>\n",
       "</div>"
      ],
      "text/plain": [
       "      LGA    SuburbPostcode\n",
       "0  Alpine    Dederang, 3691\n",
       "7  Alpine  Glen Creek, 3691"
      ]
     },
     "execution_count": 6,
     "metadata": {},
     "output_type": "execute_result"
    }
   ],
   "source": [
    "# Create dataset and drop duplicate balues\n",
    "lga_suburb = crime_df[['Local Government Area','SuburbPostcode']]\n",
    "\n",
    "# Reset index\n",
    "lga_suburb = lga_suburb.reset_index(drop=True)\n",
    "\n",
    "# Rename \"Local Government Area\" column name as \"LGA\" for easier processing\n",
    "lga_suburb.rename(columns={'Local Government Area':'LGA'}, inplace=True)\n",
    "\n",
    "# Drop duplicates\n",
    "lga_suburb= lga_suburb.drop_duplicates()\n",
    "print(\"Length of lga_suburb dataset : \",len(lga_suburb))\n",
    "lga_suburb.head(2)"
   ]
  },
  {
   "cell_type": "markdown",
   "metadata": {},
   "source": [
    "Export dataset as a CSV file"
   ]
  },
  {
   "cell_type": "code",
   "execution_count": 7,
   "metadata": {},
   "outputs": [],
   "source": [
    "lga_suburb.to_csv(\"lga_suburb_export.csv\", index=False)"
   ]
  },
  {
   "cell_type": "markdown",
   "metadata": {},
   "source": [
    "Create \"Total Incidents by Suburb/PC\" column for data filtering purposes"
   ]
  },
  {
   "cell_type": "code",
   "execution_count": 8,
   "metadata": {},
   "outputs": [
    {
     "data": {
      "text/html": [
       "<div>\n",
       "<style scoped>\n",
       "    .dataframe tbody tr th:only-of-type {\n",
       "        vertical-align: middle;\n",
       "    }\n",
       "\n",
       "    .dataframe tbody tr th {\n",
       "        vertical-align: top;\n",
       "    }\n",
       "\n",
       "    .dataframe thead th {\n",
       "        text-align: right;\n",
       "    }\n",
       "</style>\n",
       "<table border=\"1\" class=\"dataframe\">\n",
       "  <thead>\n",
       "    <tr style=\"text-align: right;\">\n",
       "      <th></th>\n",
       "      <th>Year</th>\n",
       "      <th>Year ending</th>\n",
       "      <th>Local Government Area</th>\n",
       "      <th>Postcode</th>\n",
       "      <th>Suburb/Town Name</th>\n",
       "      <th>Offence Division</th>\n",
       "      <th>Offence Subdivision</th>\n",
       "      <th>Offence Subgroup</th>\n",
       "      <th>Incidents Recorded</th>\n",
       "      <th>SuburbPostcode</th>\n",
       "      <th>Total Incidents by Suburb/PC</th>\n",
       "    </tr>\n",
       "  </thead>\n",
       "  <tbody>\n",
       "    <tr>\n",
       "      <th>0</th>\n",
       "      <td>2019</td>\n",
       "      <td>December</td>\n",
       "      <td>Alpine</td>\n",
       "      <td>3691</td>\n",
       "      <td>Dederang</td>\n",
       "      <td>B Property and deception offences</td>\n",
       "      <td>B30 Burglary/Break and enter</td>\n",
       "      <td>B321 Residential non-aggravated burglary</td>\n",
       "      <td>1</td>\n",
       "      <td>Dederang, 3691</td>\n",
       "      <td>59</td>\n",
       "    </tr>\n",
       "    <tr>\n",
       "      <th>1</th>\n",
       "      <td>2019</td>\n",
       "      <td>December</td>\n",
       "      <td>Alpine</td>\n",
       "      <td>3691</td>\n",
       "      <td>Dederang</td>\n",
       "      <td>E Justice procedures offences</td>\n",
       "      <td>E10 Justice procedures</td>\n",
       "      <td>E14 Pervert the course of justice or commit pe...</td>\n",
       "      <td>1</td>\n",
       "      <td>Dederang, 3691</td>\n",
       "      <td>59</td>\n",
       "    </tr>\n",
       "  </tbody>\n",
       "</table>\n",
       "</div>"
      ],
      "text/plain": [
       "   Year Year ending Local Government Area Postcode Suburb/Town Name  \\\n",
       "0  2019    December                Alpine     3691         Dederang   \n",
       "1  2019    December                Alpine     3691         Dederang   \n",
       "\n",
       "                    Offence Division           Offence Subdivision  \\\n",
       "0  B Property and deception offences  B30 Burglary/Break and enter   \n",
       "1      E Justice procedures offences        E10 Justice procedures   \n",
       "\n",
       "                                    Offence Subgroup  Incidents Recorded  \\\n",
       "0           B321 Residential non-aggravated burglary                   1   \n",
       "1  E14 Pervert the course of justice or commit pe...                   1   \n",
       "\n",
       "   SuburbPostcode  Total Incidents by Suburb/PC  \n",
       "0  Dederang, 3691                            59  \n",
       "1  Dederang, 3691                            59  "
      ]
     },
     "execution_count": 8,
     "metadata": {},
     "output_type": "execute_result"
    }
   ],
   "source": [
    "# Create custom dataframe to store the total incident numbers grouped by \"Suburb, Postcode column\"\n",
    "crime_sum=crime_df.groupby(['SuburbPostcode'])[['Incidents Recorded']].sum().reset_index()\n",
    "\n",
    "# Create a new dataframe merging the crime_df and crime_sum to include \"Total incidents by Suburb/PC\"\n",
    "crime_total_inc = pd.merge(crime_df, crime_sum, how='outer', on=['SuburbPostcode', 'SuburbPostcode'])\n",
    "crime_total_inc.rename(columns={'Incidents Recorded_x':'Incidents Recorded','Incidents Recorded_y':'Total Incidents by Suburb/PC'}, inplace=True)\n",
    "\n",
    "crime_total_inc.head(2)"
   ]
  },
  {
   "cell_type": "markdown",
   "metadata": {},
   "source": [
    "Create \"Total incidents by Offence Division and Suburb, Postcode\" column for filtering purposes"
   ]
  },
  {
   "cell_type": "code",
   "execution_count": 9,
   "metadata": {},
   "outputs": [
    {
     "data": {
      "text/html": [
       "<div>\n",
       "<style scoped>\n",
       "    .dataframe tbody tr th:only-of-type {\n",
       "        vertical-align: middle;\n",
       "    }\n",
       "\n",
       "    .dataframe tbody tr th {\n",
       "        vertical-align: top;\n",
       "    }\n",
       "\n",
       "    .dataframe thead th {\n",
       "        text-align: right;\n",
       "    }\n",
       "</style>\n",
       "<table border=\"1\" class=\"dataframe\">\n",
       "  <thead>\n",
       "    <tr style=\"text-align: right;\">\n",
       "      <th></th>\n",
       "      <th>Year</th>\n",
       "      <th>Year ending</th>\n",
       "      <th>Local Government Area</th>\n",
       "      <th>Postcode</th>\n",
       "      <th>Suburb/Town Name</th>\n",
       "      <th>Offence Division</th>\n",
       "      <th>Offence Subdivision</th>\n",
       "      <th>Offence Subgroup</th>\n",
       "      <th>Incidents Recorded</th>\n",
       "      <th>SuburbPostcode</th>\n",
       "      <th>Total Incidents by Suburb/PC</th>\n",
       "      <th>Total Incidents by Offence Division and Suburb/PC</th>\n",
       "    </tr>\n",
       "  </thead>\n",
       "  <tbody>\n",
       "    <tr>\n",
       "      <th>0</th>\n",
       "      <td>2019</td>\n",
       "      <td>December</td>\n",
       "      <td>Alpine</td>\n",
       "      <td>3691</td>\n",
       "      <td>Dederang</td>\n",
       "      <td>B Property and deception offences</td>\n",
       "      <td>B30 Burglary/Break and enter</td>\n",
       "      <td>B321 Residential non-aggravated burglary</td>\n",
       "      <td>1</td>\n",
       "      <td>Dederang, 3691</td>\n",
       "      <td>59</td>\n",
       "      <td>20</td>\n",
       "    </tr>\n",
       "    <tr>\n",
       "      <th>1</th>\n",
       "      <td>2019</td>\n",
       "      <td>December</td>\n",
       "      <td>Alpine</td>\n",
       "      <td>3691</td>\n",
       "      <td>Dederang</td>\n",
       "      <td>B Property and deception offences</td>\n",
       "      <td>B20 Property damage</td>\n",
       "      <td>B21 Criminal damage</td>\n",
       "      <td>1</td>\n",
       "      <td>Dederang, 3691</td>\n",
       "      <td>59</td>\n",
       "      <td>20</td>\n",
       "    </tr>\n",
       "  </tbody>\n",
       "</table>\n",
       "</div>"
      ],
      "text/plain": [
       "   Year Year ending Local Government Area Postcode Suburb/Town Name  \\\n",
       "0  2019    December                Alpine     3691         Dederang   \n",
       "1  2019    December                Alpine     3691         Dederang   \n",
       "\n",
       "                    Offence Division           Offence Subdivision  \\\n",
       "0  B Property and deception offences  B30 Burglary/Break and enter   \n",
       "1  B Property and deception offences           B20 Property damage   \n",
       "\n",
       "                           Offence Subgroup  Incidents Recorded  \\\n",
       "0  B321 Residential non-aggravated burglary                   1   \n",
       "1                       B21 Criminal damage                   1   \n",
       "\n",
       "   SuburbPostcode  Total Incidents by Suburb/PC  \\\n",
       "0  Dederang, 3691                            59   \n",
       "1  Dederang, 3691                            59   \n",
       "\n",
       "   Total Incidents by Offence Division and Suburb/PC  \n",
       "0                                                 20  \n",
       "1                                                 20  "
      ]
     },
     "execution_count": 9,
     "metadata": {},
     "output_type": "execute_result"
    }
   ],
   "source": [
    "# Create custom dataframe to store the total incident numbers grouped by \"Offense Division\" and \"SuburbPostcode\" column\n",
    "crime_div_sum=crime_total_inc.groupby(['Offence Division','SuburbPostcode'])[['Incidents Recorded']].sum().reset_index()\n",
    "\n",
    "# Create a new dataframe merging the crime_df and crime_sum to include \"Total incidents by Suburb/PC\"\n",
    "suburb_and_od = pd.merge(crime_total_inc, crime_div_sum, how='outer',left_on=['Offence Division','SuburbPostcode'], right_on = ['Offence Division','SuburbPostcode'])\n",
    "suburb_and_od.rename(columns={'Incidents Recorded_x':'Incidents Recorded','Incidents Recorded_y':'Total Incidents by Offence Division and Suburb/PC'}, inplace=True)\n",
    "\n",
    "suburb_and_od.head(2)"
   ]
  },
  {
   "cell_type": "markdown",
   "metadata": {},
   "source": [
    "Create \"Total incidents by Offence Subgroup and Suburb, Postcode\" column for filtering purposes"
   ]
  },
  {
   "cell_type": "code",
   "execution_count": 10,
   "metadata": {},
   "outputs": [
    {
     "data": {
      "text/html": [
       "<div>\n",
       "<style scoped>\n",
       "    .dataframe tbody tr th:only-of-type {\n",
       "        vertical-align: middle;\n",
       "    }\n",
       "\n",
       "    .dataframe tbody tr th {\n",
       "        vertical-align: top;\n",
       "    }\n",
       "\n",
       "    .dataframe thead th {\n",
       "        text-align: right;\n",
       "    }\n",
       "</style>\n",
       "<table border=\"1\" class=\"dataframe\">\n",
       "  <thead>\n",
       "    <tr style=\"text-align: right;\">\n",
       "      <th></th>\n",
       "      <th>Year</th>\n",
       "      <th>Year ending</th>\n",
       "      <th>Local Government Area</th>\n",
       "      <th>Postcode</th>\n",
       "      <th>Suburb/Town Name</th>\n",
       "      <th>Offence Division</th>\n",
       "      <th>Offence Subdivision</th>\n",
       "      <th>Offence Subgroup</th>\n",
       "      <th>Incidents Recorded</th>\n",
       "      <th>SuburbPostcode</th>\n",
       "      <th>Total Incidents by Suburb/PC</th>\n",
       "      <th>Total Incidents by Offence Division and Suburb/PC</th>\n",
       "      <th>Total Incidents by Offence Subgroup and Suburb/PC</th>\n",
       "    </tr>\n",
       "  </thead>\n",
       "  <tbody>\n",
       "    <tr>\n",
       "      <th>0</th>\n",
       "      <td>2019</td>\n",
       "      <td>December</td>\n",
       "      <td>Alpine</td>\n",
       "      <td>3691</td>\n",
       "      <td>Dederang</td>\n",
       "      <td>B Property and deception offences</td>\n",
       "      <td>B30 Burglary/Break and enter</td>\n",
       "      <td>B321 Residential non-aggravated burglary</td>\n",
       "      <td>1</td>\n",
       "      <td>Dederang, 3691</td>\n",
       "      <td>59</td>\n",
       "      <td>20</td>\n",
       "      <td>2</td>\n",
       "    </tr>\n",
       "    <tr>\n",
       "      <th>1</th>\n",
       "      <td>2014</td>\n",
       "      <td>December</td>\n",
       "      <td>Alpine</td>\n",
       "      <td>3691</td>\n",
       "      <td>Dederang</td>\n",
       "      <td>B Property and deception offences</td>\n",
       "      <td>B30 Burglary/Break and enter</td>\n",
       "      <td>B321 Residential non-aggravated burglary</td>\n",
       "      <td>1</td>\n",
       "      <td>Dederang, 3691</td>\n",
       "      <td>59</td>\n",
       "      <td>20</td>\n",
       "      <td>2</td>\n",
       "    </tr>\n",
       "  </tbody>\n",
       "</table>\n",
       "</div>"
      ],
      "text/plain": [
       "   Year Year ending Local Government Area Postcode Suburb/Town Name  \\\n",
       "0  2019    December                Alpine     3691         Dederang   \n",
       "1  2014    December                Alpine     3691         Dederang   \n",
       "\n",
       "                    Offence Division           Offence Subdivision  \\\n",
       "0  B Property and deception offences  B30 Burglary/Break and enter   \n",
       "1  B Property and deception offences  B30 Burglary/Break and enter   \n",
       "\n",
       "                           Offence Subgroup  Incidents Recorded  \\\n",
       "0  B321 Residential non-aggravated burglary                   1   \n",
       "1  B321 Residential non-aggravated burglary                   1   \n",
       "\n",
       "   SuburbPostcode  Total Incidents by Suburb/PC  \\\n",
       "0  Dederang, 3691                            59   \n",
       "1  Dederang, 3691                            59   \n",
       "\n",
       "   Total Incidents by Offence Division and Suburb/PC  \\\n",
       "0                                                 20   \n",
       "1                                                 20   \n",
       "\n",
       "   Total Incidents by Offence Subgroup and Suburb/PC  \n",
       "0                                                  2  \n",
       "1                                                  2  "
      ]
     },
     "execution_count": 10,
     "metadata": {},
     "output_type": "execute_result"
    }
   ],
   "source": [
    "# Create custom dataframe to store the total incident numbers grouped by \"Offence Subgroup\" and \"SuburbPostcode\"\n",
    "crime_sub_sum=crime_total_inc.groupby(['Offence Subgroup','SuburbPostcode'])[['Incidents Recorded']].sum().reset_index()\n",
    "\n",
    "# Create a new dataframe merging the crime_df and crime_sum to include \"Total incidents by Suburb/PC\"\n",
    "crime_all_totals = pd.merge(suburb_and_od, crime_sub_sum, how='outer',left_on=['Offence Subgroup','SuburbPostcode'], right_on = ['Offence Subgroup','SuburbPostcode'])\n",
    "crime_all_totals.rename(columns={'Incidents Recorded_x':'Incidents Recorded','Incidents Recorded_y':'Total Incidents by Offence Subgroup and Suburb/PC'}, inplace=True)\n",
    "\n",
    "crime_all_totals.head(2)"
   ]
  },
  {
   "cell_type": "markdown",
   "metadata": {},
   "source": [
    "Filter dataframe for year 2017 - 2019 as the app uses the last 3 years to calculate safety levels"
   ]
  },
  {
   "cell_type": "code",
   "execution_count": 11,
   "metadata": {},
   "outputs": [
    {
     "data": {
      "text/plain": [
       "(100833, 13)"
      ]
     },
     "execution_count": 11,
     "metadata": {},
     "output_type": "execute_result"
    }
   ],
   "source": [
    "crime_all_totals=crime_all_totals[crime_all_totals[\"Year\"].isin([2017, 2018,2019])]\n",
    "crime_all_totals.shape"
   ]
  },
  {
   "cell_type": "markdown",
   "metadata": {},
   "source": [
    "-------------------------------------------------"
   ]
  },
  {
   "cell_type": "markdown",
   "metadata": {},
   "source": [
    "#### Import offene severity levels dataset\n",
    "\n",
    "This is a custom dataset based on offencese recorded in `Table 03 Criminal incidents by principal offence, local government area and postcode or suburb/town - January 2010 to December 2019`, filtered according to teh offences someone who workout outside might encounter with severity rating assigned for each crime"
   ]
  },
  {
   "cell_type": "code",
   "execution_count": 12,
   "metadata": {},
   "outputs": [
    {
     "name": "stdout",
     "output_type": "stream",
     "text": [
      "Length of offence_severity_levels dataset 27\n"
     ]
    }
   ],
   "source": [
    "offence_severity_levels = pd.read_csv(\"Offence_Severity_Levels.csv\")\n",
    "print(\"Length of offence_severity_levels dataset\", len(offence_severity_levels))"
   ]
  },
  {
   "cell_type": "markdown",
   "metadata": {},
   "source": [
    "Merge the offence_severity_levels dataset and crime_all_totals"
   ]
  },
  {
   "cell_type": "code",
   "execution_count": 13,
   "metadata": {},
   "outputs": [
    {
     "data": {
      "text/html": [
       "<div>\n",
       "<style scoped>\n",
       "    .dataframe tbody tr th:only-of-type {\n",
       "        vertical-align: middle;\n",
       "    }\n",
       "\n",
       "    .dataframe tbody tr th {\n",
       "        vertical-align: top;\n",
       "    }\n",
       "\n",
       "    .dataframe thead th {\n",
       "        text-align: right;\n",
       "    }\n",
       "</style>\n",
       "<table border=\"1\" class=\"dataframe\">\n",
       "  <thead>\n",
       "    <tr style=\"text-align: right;\">\n",
       "      <th></th>\n",
       "      <th>Year</th>\n",
       "      <th>Year ending</th>\n",
       "      <th>Local Government Area</th>\n",
       "      <th>Postcode</th>\n",
       "      <th>Suburb/Town Name</th>\n",
       "      <th>Offence Division</th>\n",
       "      <th>Offence Subdivision</th>\n",
       "      <th>Offence Subgroup</th>\n",
       "      <th>Incidents Recorded</th>\n",
       "      <th>SuburbPostcode</th>\n",
       "      <th>Total Incidents by Suburb/PC</th>\n",
       "      <th>Total Incidents by Offence Division and Suburb/PC</th>\n",
       "      <th>Total Incidents by Offence Subgroup and Suburb/PC</th>\n",
       "      <th>Rating</th>\n",
       "    </tr>\n",
       "  </thead>\n",
       "  <tbody>\n",
       "    <tr>\n",
       "      <th>0</th>\n",
       "      <td>2019.0</td>\n",
       "      <td>December</td>\n",
       "      <td>Alpine</td>\n",
       "      <td>3691</td>\n",
       "      <td>Dederang</td>\n",
       "      <td>B Property and deception offences</td>\n",
       "      <td>B30 Burglary/Break and enter</td>\n",
       "      <td>B321 Residential non-aggravated burglary</td>\n",
       "      <td>1.0</td>\n",
       "      <td>Dederang, 3691</td>\n",
       "      <td>59.0</td>\n",
       "      <td>20.0</td>\n",
       "      <td>2.0</td>\n",
       "      <td>0.0</td>\n",
       "    </tr>\n",
       "    <tr>\n",
       "      <th>1</th>\n",
       "      <td>2018.0</td>\n",
       "      <td>December</td>\n",
       "      <td>Alpine</td>\n",
       "      <td>3697</td>\n",
       "      <td>Tawonga</td>\n",
       "      <td>B Property and deception offences</td>\n",
       "      <td>B30 Burglary/Break and enter</td>\n",
       "      <td>B321 Residential non-aggravated burglary</td>\n",
       "      <td>1.0</td>\n",
       "      <td>Tawonga, 3697</td>\n",
       "      <td>58.0</td>\n",
       "      <td>19.0</td>\n",
       "      <td>2.0</td>\n",
       "      <td>0.0</td>\n",
       "    </tr>\n",
       "  </tbody>\n",
       "</table>\n",
       "</div>"
      ],
      "text/plain": [
       "     Year Year ending Local Government Area Postcode Suburb/Town Name  \\\n",
       "0  2019.0    December                Alpine     3691         Dederang   \n",
       "1  2018.0    December                Alpine     3697          Tawonga   \n",
       "\n",
       "                    Offence Division           Offence Subdivision  \\\n",
       "0  B Property and deception offences  B30 Burglary/Break and enter   \n",
       "1  B Property and deception offences  B30 Burglary/Break and enter   \n",
       "\n",
       "                           Offence Subgroup  Incidents Recorded  \\\n",
       "0  B321 Residential non-aggravated burglary                 1.0   \n",
       "1  B321 Residential non-aggravated burglary                 1.0   \n",
       "\n",
       "   SuburbPostcode  Total Incidents by Suburb/PC  \\\n",
       "0  Dederang, 3691                          59.0   \n",
       "1   Tawonga, 3697                          58.0   \n",
       "\n",
       "   Total Incidents by Offence Division and Suburb/PC  \\\n",
       "0                                               20.0   \n",
       "1                                               19.0   \n",
       "\n",
       "   Total Incidents by Offence Subgroup and Suburb/PC  Rating  \n",
       "0                                                2.0     0.0  \n",
       "1                                                2.0     0.0  "
      ]
     },
     "execution_count": 13,
     "metadata": {},
     "output_type": "execute_result"
    }
   ],
   "source": [
    "crime_severity_added = pd.merge(crime_all_totals, offence_severity_levels, how='outer', on=['Offence Subgroup', 'Offence Subgroup'])\n",
    "crime_severity_added.drop(crime_severity_added.tail(1).index,inplace=True)\n",
    "\n",
    "# Since Missing values appear in the new dataset due to the outer join performed, replace missing values with 0\n",
    "crime_severity_added[\"Rating\"].fillna(0, inplace = True) \n",
    "\n",
    "crime_severity_added.head(2)"
   ]
  },
  {
   "cell_type": "markdown",
   "metadata": {},
   "source": [
    "Create custom dataframe to store the total incident numbers grouped by \"Rating\" and \"SuburbPostcode\""
   ]
  },
  {
   "cell_type": "code",
   "execution_count": 14,
   "metadata": {},
   "outputs": [
    {
     "data": {
      "text/html": [
       "<div>\n",
       "<style scoped>\n",
       "    .dataframe tbody tr th:only-of-type {\n",
       "        vertical-align: middle;\n",
       "    }\n",
       "\n",
       "    .dataframe tbody tr th {\n",
       "        vertical-align: top;\n",
       "    }\n",
       "\n",
       "    .dataframe thead th {\n",
       "        text-align: right;\n",
       "    }\n",
       "</style>\n",
       "<table border=\"1\" class=\"dataframe\">\n",
       "  <thead>\n",
       "    <tr style=\"text-align: right;\">\n",
       "      <th></th>\n",
       "      <th>Year</th>\n",
       "      <th>Year ending</th>\n",
       "      <th>Local Government Area</th>\n",
       "      <th>Postcode</th>\n",
       "      <th>Suburb/Town Name</th>\n",
       "      <th>Offence Division</th>\n",
       "      <th>Offence Subdivision</th>\n",
       "      <th>Offence Subgroup</th>\n",
       "      <th>Incidents Recorded</th>\n",
       "      <th>SuburbPostcode</th>\n",
       "      <th>Total Incidents by Suburb/PC</th>\n",
       "      <th>Total Incidents by Offence Division and Suburb/PC</th>\n",
       "      <th>Total Incidents by Offence Subgroup and Suburb/PC</th>\n",
       "      <th>Rating</th>\n",
       "      <th>Total Incidents by rating and Suburb/PC</th>\n",
       "    </tr>\n",
       "  </thead>\n",
       "  <tbody>\n",
       "    <tr>\n",
       "      <th>0</th>\n",
       "      <td>2019.0</td>\n",
       "      <td>December</td>\n",
       "      <td>Alpine</td>\n",
       "      <td>3691</td>\n",
       "      <td>Dederang</td>\n",
       "      <td>B Property and deception offences</td>\n",
       "      <td>B30 Burglary/Break and enter</td>\n",
       "      <td>B321 Residential non-aggravated burglary</td>\n",
       "      <td>1.0</td>\n",
       "      <td>Dederang, 3691</td>\n",
       "      <td>59.0</td>\n",
       "      <td>20.0</td>\n",
       "      <td>2.0</td>\n",
       "      <td>0.0</td>\n",
       "      <td>6.0</td>\n",
       "    </tr>\n",
       "    <tr>\n",
       "      <th>1</th>\n",
       "      <td>2019.0</td>\n",
       "      <td>December</td>\n",
       "      <td>Alpine</td>\n",
       "      <td>3691</td>\n",
       "      <td>Dederang</td>\n",
       "      <td>B Property and deception offences</td>\n",
       "      <td>B20 Property damage</td>\n",
       "      <td>B21 Criminal damage</td>\n",
       "      <td>1.0</td>\n",
       "      <td>Dederang, 3691</td>\n",
       "      <td>59.0</td>\n",
       "      <td>20.0</td>\n",
       "      <td>4.0</td>\n",
       "      <td>0.0</td>\n",
       "      <td>6.0</td>\n",
       "    </tr>\n",
       "  </tbody>\n",
       "</table>\n",
       "</div>"
      ],
      "text/plain": [
       "     Year Year ending Local Government Area Postcode Suburb/Town Name  \\\n",
       "0  2019.0    December                Alpine     3691         Dederang   \n",
       "1  2019.0    December                Alpine     3691         Dederang   \n",
       "\n",
       "                    Offence Division           Offence Subdivision  \\\n",
       "0  B Property and deception offences  B30 Burglary/Break and enter   \n",
       "1  B Property and deception offences           B20 Property damage   \n",
       "\n",
       "                           Offence Subgroup  Incidents Recorded  \\\n",
       "0  B321 Residential non-aggravated burglary                 1.0   \n",
       "1                       B21 Criminal damage                 1.0   \n",
       "\n",
       "   SuburbPostcode  Total Incidents by Suburb/PC  \\\n",
       "0  Dederang, 3691                          59.0   \n",
       "1  Dederang, 3691                          59.0   \n",
       "\n",
       "   Total Incidents by Offence Division and Suburb/PC  \\\n",
       "0                                               20.0   \n",
       "1                                               20.0   \n",
       "\n",
       "   Total Incidents by Offence Subgroup and Suburb/PC  Rating  \\\n",
       "0                                                2.0     0.0   \n",
       "1                                                4.0     0.0   \n",
       "\n",
       "   Total Incidents by rating and Suburb/PC  \n",
       "0                                      6.0  \n",
       "1                                      6.0  "
      ]
     },
     "execution_count": 14,
     "metadata": {},
     "output_type": "execute_result"
    }
   ],
   "source": [
    "crime_sev_sub_sum=crime_severity_added.groupby(['SuburbPostcode','Rating'])[['Incidents Recorded']].sum().reset_index()\n",
    "\n",
    "# Create a new dataframe merging the crime_df and crime_sum to include \"Total incidents by Suburb/PC\"\n",
    "crime_final = pd.merge(crime_severity_added, crime_sev_sub_sum, how='outer',left_on=['SuburbPostcode','Rating'], right_on = ['SuburbPostcode','Rating'])\n",
    "crime_final.rename(columns={'Incidents Recorded_x':'Incidents Recorded','Incidents Recorded_y':'Total Incidents by rating and Suburb/PC'}, inplace=True)\n",
    "\n",
    "crime_final.head(2)"
   ]
  },
  {
   "cell_type": "markdown",
   "metadata": {},
   "source": [
    "Create a list of offences to retain in the dataset so that they cover the possibile safety risks for someone who works out outdoors"
   ]
  },
  {
   "cell_type": "code",
   "execution_count": 15,
   "metadata": {},
   "outputs": [],
   "source": [
    "retain_offences =  offence_severity_levels[\"Offence Subgroup\"].unique().tolist()"
   ]
  },
  {
   "cell_type": "markdown",
   "metadata": {},
   "source": [
    "Filter dataframe using the offence subgroups listed above"
   ]
  },
  {
   "cell_type": "code",
   "execution_count": 16,
   "metadata": {},
   "outputs": [
    {
     "data": {
      "text/html": [
       "<div>\n",
       "<style scoped>\n",
       "    .dataframe tbody tr th:only-of-type {\n",
       "        vertical-align: middle;\n",
       "    }\n",
       "\n",
       "    .dataframe tbody tr th {\n",
       "        vertical-align: top;\n",
       "    }\n",
       "\n",
       "    .dataframe thead th {\n",
       "        text-align: right;\n",
       "    }\n",
       "</style>\n",
       "<table border=\"1\" class=\"dataframe\">\n",
       "  <thead>\n",
       "    <tr style=\"text-align: right;\">\n",
       "      <th></th>\n",
       "      <th>Year</th>\n",
       "      <th>Year ending</th>\n",
       "      <th>Local Government Area</th>\n",
       "      <th>Postcode</th>\n",
       "      <th>Suburb/Town Name</th>\n",
       "      <th>Offence Division</th>\n",
       "      <th>Offence Subdivision</th>\n",
       "      <th>Offence Subgroup</th>\n",
       "      <th>Incidents Recorded</th>\n",
       "      <th>SuburbPostcode</th>\n",
       "      <th>Total Incidents by Suburb/PC</th>\n",
       "      <th>Total Incidents by Offence Division and Suburb/PC</th>\n",
       "      <th>Total Incidents by Offence Subgroup and Suburb/PC</th>\n",
       "      <th>Rating</th>\n",
       "      <th>Total Incidents by rating and Suburb/PC</th>\n",
       "    </tr>\n",
       "  </thead>\n",
       "  <tbody>\n",
       "    <tr>\n",
       "      <th>72592</th>\n",
       "      <td>2019.0</td>\n",
       "      <td>December</td>\n",
       "      <td>Alpine</td>\n",
       "      <td>3691</td>\n",
       "      <td>Dederang</td>\n",
       "      <td>A Crimes against the person</td>\n",
       "      <td>A20 Assault and related offences</td>\n",
       "      <td>A212 Non-FV Serious assault</td>\n",
       "      <td>1.0</td>\n",
       "      <td>Dederang, 3691</td>\n",
       "      <td>59.0</td>\n",
       "      <td>12.0</td>\n",
       "      <td>4.0</td>\n",
       "      <td>3.0</td>\n",
       "      <td>5.0</td>\n",
       "    </tr>\n",
       "    <tr>\n",
       "      <th>72593</th>\n",
       "      <td>2018.0</td>\n",
       "      <td>December</td>\n",
       "      <td>Alpine</td>\n",
       "      <td>3691</td>\n",
       "      <td>Dederang</td>\n",
       "      <td>A Crimes against the person</td>\n",
       "      <td>A20 Assault and related offences</td>\n",
       "      <td>A232 Non-FV Common assault</td>\n",
       "      <td>1.0</td>\n",
       "      <td>Dederang, 3691</td>\n",
       "      <td>59.0</td>\n",
       "      <td>12.0</td>\n",
       "      <td>2.0</td>\n",
       "      <td>3.0</td>\n",
       "      <td>5.0</td>\n",
       "    </tr>\n",
       "  </tbody>\n",
       "</table>\n",
       "</div>"
      ],
      "text/plain": [
       "         Year Year ending Local Government Area Postcode Suburb/Town Name  \\\n",
       "72592  2019.0    December                Alpine     3691         Dederang   \n",
       "72593  2018.0    December                Alpine     3691         Dederang   \n",
       "\n",
       "                  Offence Division               Offence Subdivision  \\\n",
       "72592  A Crimes against the person  A20 Assault and related offences   \n",
       "72593  A Crimes against the person  A20 Assault and related offences   \n",
       "\n",
       "                  Offence Subgroup  Incidents Recorded  SuburbPostcode  \\\n",
       "72592  A212 Non-FV Serious assault                 1.0  Dederang, 3691   \n",
       "72593   A232 Non-FV Common assault                 1.0  Dederang, 3691   \n",
       "\n",
       "       Total Incidents by Suburb/PC  \\\n",
       "72592                          59.0   \n",
       "72593                          59.0   \n",
       "\n",
       "       Total Incidents by Offence Division and Suburb/PC  \\\n",
       "72592                                               12.0   \n",
       "72593                                               12.0   \n",
       "\n",
       "       Total Incidents by Offence Subgroup and Suburb/PC  Rating  \\\n",
       "72592                                                4.0     3.0   \n",
       "72593                                                2.0     3.0   \n",
       "\n",
       "       Total Incidents by rating and Suburb/PC  \n",
       "72592                                      5.0  \n",
       "72593                                      5.0  "
      ]
     },
     "execution_count": 16,
     "metadata": {},
     "output_type": "execute_result"
    }
   ],
   "source": [
    "crime_severity_df = crime_final[crime_final[\"Offence Subgroup\"].isin(retain_offences)]\n",
    "crime_severity_df.head(2)"
   ]
  },
  {
   "cell_type": "markdown",
   "metadata": {},
   "source": [
    "Group the dataset by \"SuburbPostcode\" column to get the total number of retained offences of each \"SuburbPostcode\""
   ]
  },
  {
   "cell_type": "code",
   "execution_count": 17,
   "metadata": {},
   "outputs": [
    {
     "data": {
      "text/html": [
       "<div>\n",
       "<style scoped>\n",
       "    .dataframe tbody tr th:only-of-type {\n",
       "        vertical-align: middle;\n",
       "    }\n",
       "\n",
       "    .dataframe tbody tr th {\n",
       "        vertical-align: top;\n",
       "    }\n",
       "\n",
       "    .dataframe thead th {\n",
       "        text-align: right;\n",
       "    }\n",
       "</style>\n",
       "<table border=\"1\" class=\"dataframe\">\n",
       "  <thead>\n",
       "    <tr style=\"text-align: right;\">\n",
       "      <th></th>\n",
       "      <th>Year</th>\n",
       "      <th>Year ending</th>\n",
       "      <th>Local Government Area</th>\n",
       "      <th>Postcode</th>\n",
       "      <th>Suburb/Town Name</th>\n",
       "      <th>Offence Division</th>\n",
       "      <th>Offence Subdivision</th>\n",
       "      <th>Offence Subgroup</th>\n",
       "      <th>Incidents Recorded</th>\n",
       "      <th>SuburbPostcode</th>\n",
       "      <th>Total Incidents by Suburb/PC</th>\n",
       "      <th>Total Incidents by Offence Division and Suburb/PC</th>\n",
       "      <th>Total Incidents by Offence Subgroup and Suburb/PC</th>\n",
       "      <th>Rating</th>\n",
       "      <th>Total Incidents by rating and Suburb/PC</th>\n",
       "      <th>Total Relevant Incidents - Suburb</th>\n",
       "    </tr>\n",
       "  </thead>\n",
       "  <tbody>\n",
       "    <tr>\n",
       "      <th>0</th>\n",
       "      <td>2019.0</td>\n",
       "      <td>December</td>\n",
       "      <td>Alpine</td>\n",
       "      <td>3691</td>\n",
       "      <td>Dederang</td>\n",
       "      <td>A Crimes against the person</td>\n",
       "      <td>A20 Assault and related offences</td>\n",
       "      <td>A212 Non-FV Serious assault</td>\n",
       "      <td>1.0</td>\n",
       "      <td>Dederang, 3691</td>\n",
       "      <td>59.0</td>\n",
       "      <td>12.0</td>\n",
       "      <td>4.0</td>\n",
       "      <td>3.0</td>\n",
       "      <td>5.0</td>\n",
       "      <td>8.0</td>\n",
       "    </tr>\n",
       "    <tr>\n",
       "      <th>1</th>\n",
       "      <td>2018.0</td>\n",
       "      <td>December</td>\n",
       "      <td>Alpine</td>\n",
       "      <td>3691</td>\n",
       "      <td>Dederang</td>\n",
       "      <td>A Crimes against the person</td>\n",
       "      <td>A20 Assault and related offences</td>\n",
       "      <td>A232 Non-FV Common assault</td>\n",
       "      <td>1.0</td>\n",
       "      <td>Dederang, 3691</td>\n",
       "      <td>59.0</td>\n",
       "      <td>12.0</td>\n",
       "      <td>2.0</td>\n",
       "      <td>3.0</td>\n",
       "      <td>5.0</td>\n",
       "      <td>8.0</td>\n",
       "    </tr>\n",
       "  </tbody>\n",
       "</table>\n",
       "</div>"
      ],
      "text/plain": [
       "     Year Year ending Local Government Area Postcode Suburb/Town Name  \\\n",
       "0  2019.0    December                Alpine     3691         Dederang   \n",
       "1  2018.0    December                Alpine     3691         Dederang   \n",
       "\n",
       "              Offence Division               Offence Subdivision  \\\n",
       "0  A Crimes against the person  A20 Assault and related offences   \n",
       "1  A Crimes against the person  A20 Assault and related offences   \n",
       "\n",
       "              Offence Subgroup  Incidents Recorded  SuburbPostcode  \\\n",
       "0  A212 Non-FV Serious assault                 1.0  Dederang, 3691   \n",
       "1   A232 Non-FV Common assault                 1.0  Dederang, 3691   \n",
       "\n",
       "   Total Incidents by Suburb/PC  \\\n",
       "0                          59.0   \n",
       "1                          59.0   \n",
       "\n",
       "   Total Incidents by Offence Division and Suburb/PC  \\\n",
       "0                                               12.0   \n",
       "1                                               12.0   \n",
       "\n",
       "   Total Incidents by Offence Subgroup and Suburb/PC  Rating  \\\n",
       "0                                                4.0     3.0   \n",
       "1                                                2.0     3.0   \n",
       "\n",
       "   Total Incidents by rating and Suburb/PC  Total Relevant Incidents - Suburb  \n",
       "0                                      5.0                                8.0  \n",
       "1                                      5.0                                8.0  "
      ]
     },
     "execution_count": 17,
     "metadata": {},
     "output_type": "execute_result"
    }
   ],
   "source": [
    "total_off_sub=crime_severity_df.groupby(['SuburbPostcode'])[['Incidents Recorded']].sum().reset_index()\n",
    "\n",
    "# Create a new dataframe merging the crime_df and crime_sum to include \"Total incidents by Suburb/PC\"\n",
    "total_off_sub_df = pd.merge(crime_severity_df, total_off_sub, how='outer',left_on=['SuburbPostcode'], right_on = ['SuburbPostcode'])\n",
    "total_off_sub_df.rename(columns={'Incidents Recorded_x':'Incidents Recorded','Incidents Recorded_y':'Total Relevant Incidents - Suburb'}, inplace=True)\n",
    "\n",
    "total_off_sub_df.head(2)"
   ]
  },
  {
   "cell_type": "markdown",
   "metadata": {},
   "source": [
    "----------------------------------------------------------------------------------"
   ]
  },
  {
   "cell_type": "markdown",
   "metadata": {},
   "source": [
    "### Crime rate dataset\n",
    "\n",
    "### Dataset Info\n",
    "\n",
    "Name: Data Tables - LGA Criminal Incidents Visualisation - year ending December 2019\n",
    "\n",
    "Description: Table 02 Criminal incidents and rate per 100,000 population by principal offence, local government area and police service area - January 2010 to December 2019\n",
    "\n",
    "Link : https://www.crimestatistics.vic.gov.au/sites/default/files/embridge_cache/emshare/original/public/users/202003/e7/d73f8b607/Data_Tables_LGA_Recorded_Offences_Year_Ending_December_2019.xlsx\n",
    "\n",
    "Permissions : CC BY 4.0\n",
    "\n",
    "### Wrangling Tasks\n",
    "\n",
    "Read data into python"
   ]
  },
  {
   "cell_type": "code",
   "execution_count": 18,
   "metadata": {},
   "outputs": [
    {
     "name": "stdout",
     "output_type": "stream",
     "text": [
      "Dataset shape :  (50104, 10)\n",
      "Index(['Year', 'Year ending', 'Police Service Area', 'Local Government Area',\n",
      "       'Offence Division', 'Offence Subdivision', 'Offence Subgroup',\n",
      "       'Incidents Recorded', 'PSA Rate per 100,000 population',\n",
      "       'LGA Rate per 100,000 population'],\n",
      "      dtype='object')\n"
     ]
    },
    {
     "data": {
      "text/html": [
       "<div>\n",
       "<style scoped>\n",
       "    .dataframe tbody tr th:only-of-type {\n",
       "        vertical-align: middle;\n",
       "    }\n",
       "\n",
       "    .dataframe tbody tr th {\n",
       "        vertical-align: top;\n",
       "    }\n",
       "\n",
       "    .dataframe thead th {\n",
       "        text-align: right;\n",
       "    }\n",
       "</style>\n",
       "<table border=\"1\" class=\"dataframe\">\n",
       "  <thead>\n",
       "    <tr style=\"text-align: right;\">\n",
       "      <th></th>\n",
       "      <th>Year</th>\n",
       "      <th>Year ending</th>\n",
       "      <th>Police Service Area</th>\n",
       "      <th>Local Government Area</th>\n",
       "      <th>Offence Division</th>\n",
       "      <th>Offence Subdivision</th>\n",
       "      <th>Offence Subgroup</th>\n",
       "      <th>Incidents Recorded</th>\n",
       "      <th>PSA Rate per 100,000 population</th>\n",
       "      <th>LGA Rate per 100,000 population</th>\n",
       "    </tr>\n",
       "  </thead>\n",
       "  <tbody>\n",
       "    <tr>\n",
       "      <th>0</th>\n",
       "      <td>2019</td>\n",
       "      <td>December</td>\n",
       "      <td>Ballarat</td>\n",
       "      <td>Ballarat</td>\n",
       "      <td>A Crimes against the person</td>\n",
       "      <td>A10 Homicide and related offences</td>\n",
       "      <td>A10 Homicide and related offences</td>\n",
       "      <td>2</td>\n",
       "      <td>1.712247</td>\n",
       "      <td>1.827338</td>\n",
       "    </tr>\n",
       "    <tr>\n",
       "      <th>1</th>\n",
       "      <td>2019</td>\n",
       "      <td>December</td>\n",
       "      <td>Ballarat</td>\n",
       "      <td>Ballarat</td>\n",
       "      <td>A Crimes against the person</td>\n",
       "      <td>A20 Assault and related offences</td>\n",
       "      <td>A211 FV Serious assault</td>\n",
       "      <td>150</td>\n",
       "      <td>128.418495</td>\n",
       "      <td>137.050315</td>\n",
       "    </tr>\n",
       "  </tbody>\n",
       "</table>\n",
       "</div>"
      ],
      "text/plain": [
       "   Year Year ending Police Service Area Local Government Area  \\\n",
       "0  2019    December            Ballarat              Ballarat   \n",
       "1  2019    December            Ballarat              Ballarat   \n",
       "\n",
       "              Offence Division                Offence Subdivision  \\\n",
       "0  A Crimes against the person  A10 Homicide and related offences   \n",
       "1  A Crimes against the person   A20 Assault and related offences   \n",
       "\n",
       "                    Offence Subgroup  Incidents Recorded  \\\n",
       "0  A10 Homicide and related offences                   2   \n",
       "1            A211 FV Serious assault                 150   \n",
       "\n",
       "   PSA Rate per 100,000 population  LGA Rate per 100,000 population  \n",
       "0                         1.712247                         1.827338  \n",
       "1                       128.418495                       137.050315  "
      ]
     },
     "execution_count": 18,
     "metadata": {},
     "output_type": "execute_result"
    }
   ],
   "source": [
    "rate_df = pd.read_excel('Data_Tables_LGA_Criminal_Incidents_Year_Ending_December_2019.xlsx','Table 02')\n",
    "print(\"Dataset shape : \",rate_df.shape)\n",
    "print(rate_df.columns)\n",
    "rate_df.head(2)"
   ]
  },
  {
   "cell_type": "markdown",
   "metadata": {},
   "source": [
    "Filter dataset for the relevant year range of 2017 -2019"
   ]
  },
  {
   "cell_type": "code",
   "execution_count": 19,
   "metadata": {},
   "outputs": [],
   "source": [
    "rate_df=rate_df[rate_df[\"Year\"].isin([2017, 2018,2019])]"
   ]
  },
  {
   "cell_type": "markdown",
   "metadata": {},
   "source": [
    "Create new dataframe storing the median values of crimes in each LGA"
   ]
  },
  {
   "cell_type": "code",
   "execution_count": 20,
   "metadata": {},
   "outputs": [],
   "source": [
    "median_rate = rate_df[\"LGA Rate per 100,000 population\"].median()"
   ]
  },
  {
   "cell_type": "markdown",
   "metadata": {},
   "source": [
    "Filter the dataframe to only includ ethe offences identified previously in the project"
   ]
  },
  {
   "cell_type": "code",
   "execution_count": 21,
   "metadata": {},
   "outputs": [
    {
     "name": "stdout",
     "output_type": "stream",
     "text": [
      "(4128, 10)\n"
     ]
    },
    {
     "data": {
      "text/html": [
       "<div>\n",
       "<style scoped>\n",
       "    .dataframe tbody tr th:only-of-type {\n",
       "        vertical-align: middle;\n",
       "    }\n",
       "\n",
       "    .dataframe tbody tr th {\n",
       "        vertical-align: top;\n",
       "    }\n",
       "\n",
       "    .dataframe thead th {\n",
       "        text-align: right;\n",
       "    }\n",
       "</style>\n",
       "<table border=\"1\" class=\"dataframe\">\n",
       "  <thead>\n",
       "    <tr style=\"text-align: right;\">\n",
       "      <th></th>\n",
       "      <th>Year</th>\n",
       "      <th>Year ending</th>\n",
       "      <th>Police Service Area</th>\n",
       "      <th>Local Government Area</th>\n",
       "      <th>Offence Division</th>\n",
       "      <th>Offence Subdivision</th>\n",
       "      <th>Offence Subgroup</th>\n",
       "      <th>Incidents Recorded</th>\n",
       "      <th>PSA Rate per 100,000 population</th>\n",
       "      <th>LGA Rate per 100,000 population</th>\n",
       "    </tr>\n",
       "  </thead>\n",
       "  <tbody>\n",
       "    <tr>\n",
       "      <th>2</th>\n",
       "      <td>2019</td>\n",
       "      <td>December</td>\n",
       "      <td>Ballarat</td>\n",
       "      <td>Ballarat</td>\n",
       "      <td>A Crimes against the person</td>\n",
       "      <td>A20 Assault and related offences</td>\n",
       "      <td>A212 Non-FV Serious assault</td>\n",
       "      <td>169</td>\n",
       "      <td>144.684838</td>\n",
       "      <td>154.410021</td>\n",
       "    </tr>\n",
       "    <tr>\n",
       "      <th>5</th>\n",
       "      <td>2019</td>\n",
       "      <td>December</td>\n",
       "      <td>Ballarat</td>\n",
       "      <td>Ballarat</td>\n",
       "      <td>A Crimes against the person</td>\n",
       "      <td>A20 Assault and related offences</td>\n",
       "      <td>A232 Non-FV Common assault</td>\n",
       "      <td>184</td>\n",
       "      <td>157.526687</td>\n",
       "      <td>168.115053</td>\n",
       "    </tr>\n",
       "    <tr>\n",
       "      <th>9</th>\n",
       "      <td>2019</td>\n",
       "      <td>December</td>\n",
       "      <td>Ballarat</td>\n",
       "      <td>Ballarat</td>\n",
       "      <td>A Crimes against the person</td>\n",
       "      <td>A50 Robbery</td>\n",
       "      <td>A51 Aggravated robbery</td>\n",
       "      <td>32</td>\n",
       "      <td>27.395946</td>\n",
       "      <td>29.237400</td>\n",
       "    </tr>\n",
       "  </tbody>\n",
       "</table>\n",
       "</div>"
      ],
      "text/plain": [
       "   Year Year ending Police Service Area Local Government Area  \\\n",
       "2  2019    December            Ballarat              Ballarat   \n",
       "5  2019    December            Ballarat              Ballarat   \n",
       "9  2019    December            Ballarat              Ballarat   \n",
       "\n",
       "              Offence Division               Offence Subdivision  \\\n",
       "2  A Crimes against the person  A20 Assault and related offences   \n",
       "5  A Crimes against the person  A20 Assault and related offences   \n",
       "9  A Crimes against the person                       A50 Robbery   \n",
       "\n",
       "              Offence Subgroup  Incidents Recorded  \\\n",
       "2  A212 Non-FV Serious assault                 169   \n",
       "5   A232 Non-FV Common assault                 184   \n",
       "9       A51 Aggravated robbery                  32   \n",
       "\n",
       "   PSA Rate per 100,000 population  LGA Rate per 100,000 population  \n",
       "2                       144.684838                       154.410021  \n",
       "5                       157.526687                       168.115053  \n",
       "9                        27.395946                        29.237400  "
      ]
     },
     "execution_count": 21,
     "metadata": {},
     "output_type": "execute_result"
    }
   ],
   "source": [
    "rate_df = rate_df[rate_df[\"Offence Subgroup\"].isin(retain_offences)]\n",
    "print(rate_df.shape)\n",
    "rate_df.head(3)"
   ]
  },
  {
   "cell_type": "markdown",
   "metadata": {},
   "source": [
    "Calculate the meadian value of each offence in the above dataframe"
   ]
  },
  {
   "cell_type": "code",
   "execution_count": 22,
   "metadata": {},
   "outputs": [
    {
     "data": {
      "text/html": [
       "<div>\n",
       "<style scoped>\n",
       "    .dataframe tbody tr th:only-of-type {\n",
       "        vertical-align: middle;\n",
       "    }\n",
       "\n",
       "    .dataframe tbody tr th {\n",
       "        vertical-align: top;\n",
       "    }\n",
       "\n",
       "    .dataframe thead th {\n",
       "        text-align: right;\n",
       "    }\n",
       "</style>\n",
       "<table border=\"1\" class=\"dataframe\">\n",
       "  <thead>\n",
       "    <tr style=\"text-align: right;\">\n",
       "      <th></th>\n",
       "      <th>Offence Subgroup</th>\n",
       "      <th>LGA Rate per 100,000 population</th>\n",
       "    </tr>\n",
       "  </thead>\n",
       "  <tbody>\n",
       "    <tr>\n",
       "      <th>0</th>\n",
       "      <td>A212 Non-FV Serious assault</td>\n",
       "      <td>110.915310</td>\n",
       "    </tr>\n",
       "    <tr>\n",
       "      <th>1</th>\n",
       "      <td>A232 Non-FV Common assault</td>\n",
       "      <td>118.765584</td>\n",
       "    </tr>\n",
       "  </tbody>\n",
       "</table>\n",
       "</div>"
      ],
      "text/plain": [
       "              Offence Subgroup  LGA Rate per 100,000 population\n",
       "0  A212 Non-FV Serious assault                       110.915310\n",
       "1   A232 Non-FV Common assault                       118.765584"
      ]
     },
     "execution_count": 22,
     "metadata": {},
     "output_type": "execute_result"
    }
   ],
   "source": [
    "lga_rate_medians = rate_df.groupby('Offence Subgroup')['LGA Rate per 100,000 population'].median().reset_index()\n",
    "lga_rate_medians.head(2)"
   ]
  },
  {
   "cell_type": "markdown",
   "metadata": {},
   "source": [
    "Obtain total incidents recorded by suburb, offence and rating from total_off_sub_df and create a new dataset"
   ]
  },
  {
   "cell_type": "code",
   "execution_count": 23,
   "metadata": {},
   "outputs": [
    {
     "data": {
      "text/html": [
       "<div>\n",
       "<style scoped>\n",
       "    .dataframe tbody tr th:only-of-type {\n",
       "        vertical-align: middle;\n",
       "    }\n",
       "\n",
       "    .dataframe tbody tr th {\n",
       "        vertical-align: top;\n",
       "    }\n",
       "\n",
       "    .dataframe thead th {\n",
       "        text-align: right;\n",
       "    }\n",
       "</style>\n",
       "<table border=\"1\" class=\"dataframe\">\n",
       "  <thead>\n",
       "    <tr style=\"text-align: right;\">\n",
       "      <th></th>\n",
       "      <th>SuburbPostcode</th>\n",
       "      <th>Offence Subgroup</th>\n",
       "      <th>Rating</th>\n",
       "      <th>Incidents Recorded</th>\n",
       "    </tr>\n",
       "  </thead>\n",
       "  <tbody>\n",
       "    <tr>\n",
       "      <th>0</th>\n",
       "      <td>Abbeyard, 3737</td>\n",
       "      <td>A212 Non-FV Serious assault</td>\n",
       "      <td>3.0</td>\n",
       "      <td>1.0</td>\n",
       "    </tr>\n",
       "    <tr>\n",
       "      <th>1</th>\n",
       "      <td>Abbeyard, 3737</td>\n",
       "      <td>A232 Non-FV Common assault</td>\n",
       "      <td>3.0</td>\n",
       "      <td>1.0</td>\n",
       "    </tr>\n",
       "  </tbody>\n",
       "</table>\n",
       "</div>"
      ],
      "text/plain": [
       "   SuburbPostcode             Offence Subgroup  Rating  Incidents Recorded\n",
       "0  Abbeyard, 3737  A212 Non-FV Serious assault     3.0                 1.0\n",
       "1  Abbeyard, 3737   A232 Non-FV Common assault     3.0                 1.0"
      ]
     },
     "execution_count": 23,
     "metadata": {},
     "output_type": "execute_result"
    }
   ],
   "source": [
    "incident_total = total_off_sub_df.groupby(['SuburbPostcode','Offence Subgroup','Rating'])[['Incidents Recorded']].sum().reset_index()\n",
    "incident_total.head(2)"
   ]
  },
  {
   "cell_type": "markdown",
   "metadata": {},
   "source": [
    "Assign severity weights to each of the rating. 1 -> 0.2, 2 -> 0.3 and 3 -> 0.5, "
   ]
  },
  {
   "cell_type": "code",
   "execution_count": 24,
   "metadata": {},
   "outputs": [],
   "source": [
    "score_list = []\n",
    "\n",
    "for i, row in incident_total.iterrows():\n",
    "    if (incident_total['Rating'][i] == 3.0):\n",
    "            score_list.append(0.5)\n",
    "    elif (incident_total['Rating'][i] == 2.0):\n",
    "            score_list.append(0.3)\n",
    "    else:\n",
    "        score_list.append(0.2)\n",
    "\n",
    "incident_total['Severity Weight'] = pd.Series(score_list).values "
   ]
  },
  {
   "cell_type": "markdown",
   "metadata": {},
   "source": [
    "Create new dataframe to combine incident_total and lga_rate_medians through an outer join"
   ]
  },
  {
   "cell_type": "code",
   "execution_count": 25,
   "metadata": {},
   "outputs": [
    {
     "data": {
      "text/html": [
       "<div>\n",
       "<style scoped>\n",
       "    .dataframe tbody tr th:only-of-type {\n",
       "        vertical-align: middle;\n",
       "    }\n",
       "\n",
       "    .dataframe tbody tr th {\n",
       "        vertical-align: top;\n",
       "    }\n",
       "\n",
       "    .dataframe thead th {\n",
       "        text-align: right;\n",
       "    }\n",
       "</style>\n",
       "<table border=\"1\" class=\"dataframe\">\n",
       "  <thead>\n",
       "    <tr style=\"text-align: right;\">\n",
       "      <th></th>\n",
       "      <th>SuburbPostcode</th>\n",
       "      <th>Offence Subgroup</th>\n",
       "      <th>Rating</th>\n",
       "      <th>Incidents Recorded</th>\n",
       "      <th>Severity Weight</th>\n",
       "      <th>LGA Rate per 100,000 population</th>\n",
       "    </tr>\n",
       "  </thead>\n",
       "  <tbody>\n",
       "    <tr>\n",
       "      <th>0</th>\n",
       "      <td>Abbeyard, 3737</td>\n",
       "      <td>A212 Non-FV Serious assault</td>\n",
       "      <td>3.0</td>\n",
       "      <td>1.0</td>\n",
       "      <td>0.5</td>\n",
       "      <td>110.91531</td>\n",
       "    </tr>\n",
       "    <tr>\n",
       "      <th>1</th>\n",
       "      <td>Abbotsford, 3067</td>\n",
       "      <td>A212 Non-FV Serious assault</td>\n",
       "      <td>3.0</td>\n",
       "      <td>69.0</td>\n",
       "      <td>0.5</td>\n",
       "      <td>110.91531</td>\n",
       "    </tr>\n",
       "  </tbody>\n",
       "</table>\n",
       "</div>"
      ],
      "text/plain": [
       "     SuburbPostcode             Offence Subgroup  Rating  Incidents Recorded  \\\n",
       "0    Abbeyard, 3737  A212 Non-FV Serious assault     3.0                 1.0   \n",
       "1  Abbotsford, 3067  A212 Non-FV Serious assault     3.0                69.0   \n",
       "\n",
       "   Severity Weight  LGA Rate per 100,000 population  \n",
       "0              0.5                        110.91531  \n",
       "1              0.5                        110.91531  "
      ]
     },
     "execution_count": 25,
     "metadata": {},
     "output_type": "execute_result"
    }
   ],
   "source": [
    "median_comparison = pd.merge(incident_total, lga_rate_medians, how='outer',left_on=['Offence Subgroup'], right_on = ['Offence Subgroup'])\n",
    "median_comparison.head(2)"
   ]
  },
  {
   "cell_type": "markdown",
   "metadata": {},
   "source": [
    "Check one suburb (\"Beaconsfield, 3807\") to inspect the dataset"
   ]
  },
  {
   "cell_type": "code",
   "execution_count": 26,
   "metadata": {},
   "outputs": [
    {
     "data": {
      "text/html": [
       "<div>\n",
       "<style scoped>\n",
       "    .dataframe tbody tr th:only-of-type {\n",
       "        vertical-align: middle;\n",
       "    }\n",
       "\n",
       "    .dataframe tbody tr th {\n",
       "        vertical-align: top;\n",
       "    }\n",
       "\n",
       "    .dataframe thead th {\n",
       "        text-align: right;\n",
       "    }\n",
       "</style>\n",
       "<table border=\"1\" class=\"dataframe\">\n",
       "  <thead>\n",
       "    <tr style=\"text-align: right;\">\n",
       "      <th></th>\n",
       "      <th>SuburbPostcode</th>\n",
       "      <th>Offence Subgroup</th>\n",
       "      <th>Rating</th>\n",
       "      <th>Incidents Recorded</th>\n",
       "      <th>Severity Weight</th>\n",
       "      <th>LGA Rate per 100,000 population</th>\n",
       "    </tr>\n",
       "  </thead>\n",
       "  <tbody>\n",
       "    <tr>\n",
       "      <th>72</th>\n",
       "      <td>Beaconsfield, 3807</td>\n",
       "      <td>A212 Non-FV Serious assault</td>\n",
       "      <td>3.0</td>\n",
       "      <td>20.0</td>\n",
       "      <td>0.5</td>\n",
       "      <td>110.915310</td>\n",
       "    </tr>\n",
       "    <tr>\n",
       "      <th>1182</th>\n",
       "      <td>Beaconsfield, 3807</td>\n",
       "      <td>A232 Non-FV Common assault</td>\n",
       "      <td>3.0</td>\n",
       "      <td>26.0</td>\n",
       "      <td>0.5</td>\n",
       "      <td>118.765584</td>\n",
       "    </tr>\n",
       "    <tr>\n",
       "      <th>2190</th>\n",
       "      <td>Beaconsfield, 3807</td>\n",
       "      <td>A51 Aggravated robbery</td>\n",
       "      <td>3.0</td>\n",
       "      <td>9.0</td>\n",
       "      <td>0.5</td>\n",
       "      <td>20.265544</td>\n",
       "    </tr>\n",
       "    <tr>\n",
       "      <th>2702</th>\n",
       "      <td>Beaconsfield, 3807</td>\n",
       "      <td>A52 Non-Aggravated robbery</td>\n",
       "      <td>2.0</td>\n",
       "      <td>1.0</td>\n",
       "      <td>0.3</td>\n",
       "      <td>3.979991</td>\n",
       "    </tr>\n",
       "    <tr>\n",
       "      <th>2973</th>\n",
       "      <td>Beaconsfield, 3807</td>\n",
       "      <td>A712 Non-FV Stalking</td>\n",
       "      <td>3.0</td>\n",
       "      <td>1.0</td>\n",
       "      <td>0.5</td>\n",
       "      <td>13.489831</td>\n",
       "    </tr>\n",
       "    <tr>\n",
       "      <th>3537</th>\n",
       "      <td>Beaconsfield, 3807</td>\n",
       "      <td>A722 Non-FV Harassment and private nuisance</td>\n",
       "      <td>3.0</td>\n",
       "      <td>1.0</td>\n",
       "      <td>0.5</td>\n",
       "      <td>8.865490</td>\n",
       "    </tr>\n",
       "    <tr>\n",
       "      <th>4066</th>\n",
       "      <td>Beaconsfield, 3807</td>\n",
       "      <td>A732 Non-FV Threatening behaviour</td>\n",
       "      <td>3.0</td>\n",
       "      <td>4.0</td>\n",
       "      <td>0.5</td>\n",
       "      <td>29.902518</td>\n",
       "    </tr>\n",
       "    <tr>\n",
       "      <th>5392</th>\n",
       "      <td>Beaconsfield, 3807</td>\n",
       "      <td>A89 Other dangerous or negligent acts endanger...</td>\n",
       "      <td>1.0</td>\n",
       "      <td>5.0</td>\n",
       "      <td>0.2</td>\n",
       "      <td>38.437020</td>\n",
       "    </tr>\n",
       "    <tr>\n",
       "      <th>6425</th>\n",
       "      <td>Beaconsfield, 3807</td>\n",
       "      <td>D11 Firearms offences</td>\n",
       "      <td>3.0</td>\n",
       "      <td>1.0</td>\n",
       "      <td>0.5</td>\n",
       "      <td>37.846532</td>\n",
       "    </tr>\n",
       "    <tr>\n",
       "      <th>7453</th>\n",
       "      <td>Beaconsfield, 3807</td>\n",
       "      <td>D12 Prohibited and controlled weapons offences</td>\n",
       "      <td>3.0</td>\n",
       "      <td>23.0</td>\n",
       "      <td>0.5</td>\n",
       "      <td>86.003491</td>\n",
       "    </tr>\n",
       "    <tr>\n",
       "      <th>8332</th>\n",
       "      <td>Beaconsfield, 3807</td>\n",
       "      <td>D22 Drunk and disorderly in public</td>\n",
       "      <td>3.0</td>\n",
       "      <td>24.0</td>\n",
       "      <td>0.5</td>\n",
       "      <td>67.196948</td>\n",
       "    </tr>\n",
       "    <tr>\n",
       "      <th>9080</th>\n",
       "      <td>Beaconsfield, 3807</td>\n",
       "      <td>D23 Offensive conduct</td>\n",
       "      <td>2.0</td>\n",
       "      <td>4.0</td>\n",
       "      <td>0.3</td>\n",
       "      <td>36.398333</td>\n",
       "    </tr>\n",
       "    <tr>\n",
       "      <th>9703</th>\n",
       "      <td>Beaconsfield, 3807</td>\n",
       "      <td>D24 Offensive language</td>\n",
       "      <td>2.0</td>\n",
       "      <td>1.0</td>\n",
       "      <td>0.3</td>\n",
       "      <td>11.932808</td>\n",
       "    </tr>\n",
       "    <tr>\n",
       "      <th>10130</th>\n",
       "      <td>Beaconsfield, 3807</td>\n",
       "      <td>D25 Criminal intent</td>\n",
       "      <td>3.0</td>\n",
       "      <td>1.0</td>\n",
       "      <td>0.5</td>\n",
       "      <td>7.186868</td>\n",
       "    </tr>\n",
       "    <tr>\n",
       "      <th>10517</th>\n",
       "      <td>Beaconsfield, 3807</td>\n",
       "      <td>D26 Disorderly conduct</td>\n",
       "      <td>2.0</td>\n",
       "      <td>7.0</td>\n",
       "      <td>0.3</td>\n",
       "      <td>3.557570</td>\n",
       "    </tr>\n",
       "    <tr>\n",
       "      <th>10800</th>\n",
       "      <td>Beaconsfield, 3807</td>\n",
       "      <td>D35 Improper movement on public or private space</td>\n",
       "      <td>3.0</td>\n",
       "      <td>2.0</td>\n",
       "      <td>0.5</td>\n",
       "      <td>23.957191</td>\n",
       "    </tr>\n",
       "    <tr>\n",
       "      <th>11747</th>\n",
       "      <td>Beaconsfield, 3807</td>\n",
       "      <td>Other crimes against the person</td>\n",
       "      <td>2.0</td>\n",
       "      <td>25.0</td>\n",
       "      <td>0.3</td>\n",
       "      <td>NaN</td>\n",
       "    </tr>\n",
       "    <tr>\n",
       "      <th>13137</th>\n",
       "      <td>Beaconsfield, 3807</td>\n",
       "      <td>A81 Dangerous driving</td>\n",
       "      <td>3.0</td>\n",
       "      <td>1.0</td>\n",
       "      <td>0.5</td>\n",
       "      <td>13.318521</td>\n",
       "    </tr>\n",
       "  </tbody>\n",
       "</table>\n",
       "</div>"
      ],
      "text/plain": [
       "           SuburbPostcode                                   Offence Subgroup  \\\n",
       "72     Beaconsfield, 3807                        A212 Non-FV Serious assault   \n",
       "1182   Beaconsfield, 3807                         A232 Non-FV Common assault   \n",
       "2190   Beaconsfield, 3807                             A51 Aggravated robbery   \n",
       "2702   Beaconsfield, 3807                         A52 Non-Aggravated robbery   \n",
       "2973   Beaconsfield, 3807                               A712 Non-FV Stalking   \n",
       "3537   Beaconsfield, 3807        A722 Non-FV Harassment and private nuisance   \n",
       "4066   Beaconsfield, 3807                  A732 Non-FV Threatening behaviour   \n",
       "5392   Beaconsfield, 3807  A89 Other dangerous or negligent acts endanger...   \n",
       "6425   Beaconsfield, 3807                              D11 Firearms offences   \n",
       "7453   Beaconsfield, 3807     D12 Prohibited and controlled weapons offences   \n",
       "8332   Beaconsfield, 3807                 D22 Drunk and disorderly in public   \n",
       "9080   Beaconsfield, 3807                              D23 Offensive conduct   \n",
       "9703   Beaconsfield, 3807                             D24 Offensive language   \n",
       "10130  Beaconsfield, 3807                                D25 Criminal intent   \n",
       "10517  Beaconsfield, 3807                             D26 Disorderly conduct   \n",
       "10800  Beaconsfield, 3807   D35 Improper movement on public or private space   \n",
       "11747  Beaconsfield, 3807                    Other crimes against the person   \n",
       "13137  Beaconsfield, 3807                              A81 Dangerous driving   \n",
       "\n",
       "       Rating  Incidents Recorded  Severity Weight  \\\n",
       "72        3.0                20.0              0.5   \n",
       "1182      3.0                26.0              0.5   \n",
       "2190      3.0                 9.0              0.5   \n",
       "2702      2.0                 1.0              0.3   \n",
       "2973      3.0                 1.0              0.5   \n",
       "3537      3.0                 1.0              0.5   \n",
       "4066      3.0                 4.0              0.5   \n",
       "5392      1.0                 5.0              0.2   \n",
       "6425      3.0                 1.0              0.5   \n",
       "7453      3.0                23.0              0.5   \n",
       "8332      3.0                24.0              0.5   \n",
       "9080      2.0                 4.0              0.3   \n",
       "9703      2.0                 1.0              0.3   \n",
       "10130     3.0                 1.0              0.5   \n",
       "10517     2.0                 7.0              0.3   \n",
       "10800     3.0                 2.0              0.5   \n",
       "11747     2.0                25.0              0.3   \n",
       "13137     3.0                 1.0              0.5   \n",
       "\n",
       "       LGA Rate per 100,000 population  \n",
       "72                          110.915310  \n",
       "1182                        118.765584  \n",
       "2190                         20.265544  \n",
       "2702                          3.979991  \n",
       "2973                         13.489831  \n",
       "3537                          8.865490  \n",
       "4066                         29.902518  \n",
       "5392                         38.437020  \n",
       "6425                         37.846532  \n",
       "7453                         86.003491  \n",
       "8332                         67.196948  \n",
       "9080                         36.398333  \n",
       "9703                         11.932808  \n",
       "10130                         7.186868  \n",
       "10517                         3.557570  \n",
       "10800                        23.957191  \n",
       "11747                              NaN  \n",
       "13137                        13.318521  "
      ]
     },
     "execution_count": 26,
     "metadata": {},
     "output_type": "execute_result"
    }
   ],
   "source": [
    "median_comparison[median_comparison[\"SuburbPostcode\"]==\"Beaconsfield, 3807\"]"
   ]
  },
  {
   "cell_type": "markdown",
   "metadata": {},
   "source": [
    "\n",
    "Create a new column in median_comparison dataset as \"Flag\" to store a binary ndicator that denotes whether the incidents recorded in that specific suburb is greater than the LGA Rate per 100,000 population. Create another column \"Suburb Score\" to store the multiplication of flag and the severity weight"
   ]
  },
  {
   "cell_type": "code",
   "execution_count": 27,
   "metadata": {},
   "outputs": [
    {
     "data": {
      "text/html": [
       "<div>\n",
       "<style scoped>\n",
       "    .dataframe tbody tr th:only-of-type {\n",
       "        vertical-align: middle;\n",
       "    }\n",
       "\n",
       "    .dataframe tbody tr th {\n",
       "        vertical-align: top;\n",
       "    }\n",
       "\n",
       "    .dataframe thead th {\n",
       "        text-align: right;\n",
       "    }\n",
       "</style>\n",
       "<table border=\"1\" class=\"dataframe\">\n",
       "  <thead>\n",
       "    <tr style=\"text-align: right;\">\n",
       "      <th></th>\n",
       "      <th>SuburbPostcode</th>\n",
       "      <th>Offence Subgroup</th>\n",
       "      <th>Rating</th>\n",
       "      <th>Incidents Recorded</th>\n",
       "      <th>Severity Weight</th>\n",
       "      <th>LGA Rate per 100,000 population</th>\n",
       "      <th>Flag</th>\n",
       "      <th>Suburb Score</th>\n",
       "    </tr>\n",
       "  </thead>\n",
       "  <tbody>\n",
       "    <tr>\n",
       "      <th>0</th>\n",
       "      <td>Abbeyard, 3737</td>\n",
       "      <td>A212 Non-FV Serious assault</td>\n",
       "      <td>3.0</td>\n",
       "      <td>1.0</td>\n",
       "      <td>0.5</td>\n",
       "      <td>110.91531</td>\n",
       "      <td>0</td>\n",
       "      <td>0.0</td>\n",
       "    </tr>\n",
       "    <tr>\n",
       "      <th>1</th>\n",
       "      <td>Abbotsford, 3067</td>\n",
       "      <td>A212 Non-FV Serious assault</td>\n",
       "      <td>3.0</td>\n",
       "      <td>69.0</td>\n",
       "      <td>0.5</td>\n",
       "      <td>110.91531</td>\n",
       "      <td>0</td>\n",
       "      <td>0.0</td>\n",
       "    </tr>\n",
       "  </tbody>\n",
       "</table>\n",
       "</div>"
      ],
      "text/plain": [
       "     SuburbPostcode             Offence Subgroup  Rating  Incidents Recorded  \\\n",
       "0    Abbeyard, 3737  A212 Non-FV Serious assault     3.0                 1.0   \n",
       "1  Abbotsford, 3067  A212 Non-FV Serious assault     3.0                69.0   \n",
       "\n",
       "   Severity Weight  LGA Rate per 100,000 population  Flag  Suburb Score  \n",
       "0              0.5                        110.91531     0           0.0  \n",
       "1              0.5                        110.91531     0           0.0  "
      ]
     },
     "execution_count": 27,
     "metadata": {},
     "output_type": "execute_result"
    }
   ],
   "source": [
    "median_comparison['Flag'] = np.where(median_comparison['Incidents Recorded']>median_comparison['LGA Rate per 100,000 population'], 1,0)\n",
    "median_comparison['Suburb Score'] = median_comparison['Flag']*median_comparison['Severity Weight']\n",
    "median_comparison.head(2)"
   ]
  },
  {
   "cell_type": "markdown",
   "metadata": {},
   "source": [
    "Group the median comparison dataframe by \"SuburbPostcode\" column to obtain the total Suburb Score"
   ]
  },
  {
   "cell_type": "code",
   "execution_count": 28,
   "metadata": {},
   "outputs": [
    {
     "data": {
      "text/html": [
       "<div>\n",
       "<style scoped>\n",
       "    .dataframe tbody tr th:only-of-type {\n",
       "        vertical-align: middle;\n",
       "    }\n",
       "\n",
       "    .dataframe tbody tr th {\n",
       "        vertical-align: top;\n",
       "    }\n",
       "\n",
       "    .dataframe thead th {\n",
       "        text-align: right;\n",
       "    }\n",
       "</style>\n",
       "<table border=\"1\" class=\"dataframe\">\n",
       "  <thead>\n",
       "    <tr style=\"text-align: right;\">\n",
       "      <th></th>\n",
       "      <th>SuburbPostcode</th>\n",
       "      <th>Suburb Score</th>\n",
       "    </tr>\n",
       "  </thead>\n",
       "  <tbody>\n",
       "    <tr>\n",
       "      <th>0</th>\n",
       "      <td>Abbeyard, 3737</td>\n",
       "      <td>0.0</td>\n",
       "    </tr>\n",
       "    <tr>\n",
       "      <th>1</th>\n",
       "      <td>Abbotsford, 3067</td>\n",
       "      <td>1.6</td>\n",
       "    </tr>\n",
       "  </tbody>\n",
       "</table>\n",
       "</div>"
      ],
      "text/plain": [
       "     SuburbPostcode  Suburb Score\n",
       "0    Abbeyard, 3737           0.0\n",
       "1  Abbotsford, 3067           1.6"
      ]
     },
     "execution_count": 28,
     "metadata": {},
     "output_type": "execute_result"
    }
   ],
   "source": [
    "median_comparison_df =median_comparison.groupby(['SuburbPostcode'])[['Suburb Score']].sum().reset_index()\n",
    "median_comparison_df.head(2)"
   ]
  },
  {
   "cell_type": "code",
   "execution_count": 29,
   "metadata": {},
   "outputs": [
    {
     "data": {
      "text/plain": [
       "array([0. , 1.6, 0.2, 0.3, 0.8, 1. , 0.5, 0.6, 1.3, 3.5, 5.1, 0.7, 4.3,\n",
       "       3.6, 3. , 1.8, 6.5, 4. , 2.1, 2.8, 3.8, 1.1, 5. , 4.7, 5.2, 8.9,\n",
       "       6.2, 1.5, 4.1, 4.7, 8.3, 5.2, 1.7, 1.2, 5.5, 2. , 9.5, 8.1, 1.9,\n",
       "       3.1, 8. , 5.7, 6.1, 2.6, 6.7, 3.1, 7.5, 6.9, 5.9, 3.9, 2.5, 7.9,\n",
       "       5.8, 6.2, 6.6, 5.4, 4.8, 2.4, 2.9, 7.4, 7. ])"
      ]
     },
     "execution_count": 29,
     "metadata": {},
     "output_type": "execute_result"
    }
   ],
   "source": [
    "median_comparison_df['Suburb Score'].unique()"
   ]
  },
  {
   "cell_type": "markdown",
   "metadata": {},
   "source": [
    "Create column \"Indicator\" to assign \"Safe\" and \"Unsafe\" values to each suburb based on the total suburb score. If suburb score = 0, the indicator is \"Safe\" and if suburb score >0, the indicator is \"Unsafe\""
   ]
  },
  {
   "cell_type": "code",
   "execution_count": 30,
   "metadata": {},
   "outputs": [
    {
     "data": {
      "text/html": [
       "<div>\n",
       "<style scoped>\n",
       "    .dataframe tbody tr th:only-of-type {\n",
       "        vertical-align: middle;\n",
       "    }\n",
       "\n",
       "    .dataframe tbody tr th {\n",
       "        vertical-align: top;\n",
       "    }\n",
       "\n",
       "    .dataframe thead th {\n",
       "        text-align: right;\n",
       "    }\n",
       "</style>\n",
       "<table border=\"1\" class=\"dataframe\">\n",
       "  <thead>\n",
       "    <tr style=\"text-align: right;\">\n",
       "      <th></th>\n",
       "      <th>SuburbPostcode</th>\n",
       "      <th>SuburbScore</th>\n",
       "      <th>Indicator</th>\n",
       "    </tr>\n",
       "  </thead>\n",
       "  <tbody>\n",
       "    <tr>\n",
       "      <th>0</th>\n",
       "      <td>Abbeyard, 3737</td>\n",
       "      <td>0.0</td>\n",
       "      <td>Safe</td>\n",
       "    </tr>\n",
       "    <tr>\n",
       "      <th>1</th>\n",
       "      <td>Abbotsford, 3067</td>\n",
       "      <td>1.6</td>\n",
       "      <td>Unsafe</td>\n",
       "    </tr>\n",
       "  </tbody>\n",
       "</table>\n",
       "</div>"
      ],
      "text/plain": [
       "     SuburbPostcode  SuburbScore Indicator\n",
       "0    Abbeyard, 3737          0.0      Safe\n",
       "1  Abbotsford, 3067          1.6    Unsafe"
      ]
     },
     "execution_count": 30,
     "metadata": {},
     "output_type": "execute_result"
    }
   ],
   "source": [
    "median_comparison_df['Indicator'] = np.where(median_comparison_df['Suburb Score']==0, \"Safe\",\"Unsafe\")\n",
    "median_comparison_df.rename(columns={'Local Government Area':'LGA','Suburb, Postcode':'SuburbPostcode','Suburb Score':'SuburbScore' }, inplace=True)\n",
    "\n",
    "median_comparison_df.head(2)"
   ]
  },
  {
   "cell_type": "markdown",
   "metadata": {},
   "source": [
    "-----------------------------------------------------------------------------------------------"
   ]
  },
  {
   "cell_type": "markdown",
   "metadata": {},
   "source": [
    "#### Import geographical data\n",
    "\n",
    "Import the victorian locality borders dataset, `VIC_LOCALITY_POLYGON_shp.shp` to python so that the suburbs scores calculated can be integrated with the map "
   ]
  },
  {
   "cell_type": "code",
   "execution_count": 31,
   "metadata": {},
   "outputs": [
    {
     "data": {
      "text/html": [
       "<div>\n",
       "<style scoped>\n",
       "    .dataframe tbody tr th:only-of-type {\n",
       "        vertical-align: middle;\n",
       "    }\n",
       "\n",
       "    .dataframe tbody tr th {\n",
       "        vertical-align: top;\n",
       "    }\n",
       "\n",
       "    .dataframe thead th {\n",
       "        text-align: right;\n",
       "    }\n",
       "</style>\n",
       "<table border=\"1\" class=\"dataframe\">\n",
       "  <thead>\n",
       "    <tr style=\"text-align: right;\">\n",
       "      <th></th>\n",
       "      <th>LC_PLY_PID</th>\n",
       "      <th>DT_CREATE</th>\n",
       "      <th>DT_RETIRE</th>\n",
       "      <th>LOC_PID</th>\n",
       "      <th>VIC_LOCALI</th>\n",
       "      <th>VIC_LOCA_1</th>\n",
       "      <th>VIC_LOCA_2</th>\n",
       "      <th>VIC_LOCA_3</th>\n",
       "      <th>VIC_LOCA_4</th>\n",
       "      <th>VIC_LOCA_5</th>\n",
       "      <th>VIC_LOCA_6</th>\n",
       "      <th>VIC_LOCA_7</th>\n",
       "      <th>coords</th>\n",
       "    </tr>\n",
       "  </thead>\n",
       "  <tbody>\n",
       "    <tr>\n",
       "      <th>0</th>\n",
       "      <td>6670</td>\n",
       "      <td>2011-08-31</td>\n",
       "      <td>None</td>\n",
       "      <td>VIC2615</td>\n",
       "      <td>2012-04-27</td>\n",
       "      <td>None</td>\n",
       "      <td>UNDERBOOL</td>\n",
       "      <td></td>\n",
       "      <td></td>\n",
       "      <td>G</td>\n",
       "      <td>None</td>\n",
       "      <td>2</td>\n",
       "      <td>[(141.74552399, -35.07228701), (141.74552471, ...</td>\n",
       "    </tr>\n",
       "    <tr>\n",
       "      <th>1</th>\n",
       "      <td>6671</td>\n",
       "      <td>2011-08-31</td>\n",
       "      <td>None</td>\n",
       "      <td>VIC1986</td>\n",
       "      <td>2012-04-27</td>\n",
       "      <td>None</td>\n",
       "      <td>NURRAN</td>\n",
       "      <td></td>\n",
       "      <td></td>\n",
       "      <td>G</td>\n",
       "      <td>None</td>\n",
       "      <td>2</td>\n",
       "      <td>[(148.668767, -37.39571245), (148.66876202, -3...</td>\n",
       "    </tr>\n",
       "    <tr>\n",
       "      <th>2</th>\n",
       "      <td>6672</td>\n",
       "      <td>2011-08-31</td>\n",
       "      <td>None</td>\n",
       "      <td>VIC2862</td>\n",
       "      <td>2012-04-27</td>\n",
       "      <td>None</td>\n",
       "      <td>WOORNDOO</td>\n",
       "      <td></td>\n",
       "      <td></td>\n",
       "      <td>G</td>\n",
       "      <td>None</td>\n",
       "      <td>2</td>\n",
       "      <td>[(142.92287999, -37.97885997), (142.90449196, ...</td>\n",
       "    </tr>\n",
       "    <tr>\n",
       "      <th>3</th>\n",
       "      <td>6673</td>\n",
       "      <td>2011-08-31</td>\n",
       "      <td>None</td>\n",
       "      <td>VIC734</td>\n",
       "      <td>2018-08-03</td>\n",
       "      <td>None</td>\n",
       "      <td>DEPTFORD</td>\n",
       "      <td></td>\n",
       "      <td></td>\n",
       "      <td>G</td>\n",
       "      <td>None</td>\n",
       "      <td>2</td>\n",
       "      <td>[(147.82335712, -37.66000897), (147.8231274, -...</td>\n",
       "    </tr>\n",
       "    <tr>\n",
       "      <th>4</th>\n",
       "      <td>6674</td>\n",
       "      <td>2011-08-31</td>\n",
       "      <td>None</td>\n",
       "      <td>VIC2900</td>\n",
       "      <td>2012-04-27</td>\n",
       "      <td>None</td>\n",
       "      <td>YANAC</td>\n",
       "      <td></td>\n",
       "      <td></td>\n",
       "      <td>G</td>\n",
       "      <td>None</td>\n",
       "      <td>2</td>\n",
       "      <td>[(141.279783, -35.99858911), (141.27988533, -3...</td>\n",
       "    </tr>\n",
       "  </tbody>\n",
       "</table>\n",
       "</div>"
      ],
      "text/plain": [
       "  LC_PLY_PID   DT_CREATE DT_RETIRE  LOC_PID  VIC_LOCALI VIC_LOCA_1 VIC_LOCA_2  \\\n",
       "0       6670  2011-08-31      None  VIC2615  2012-04-27       None  UNDERBOOL   \n",
       "1       6671  2011-08-31      None  VIC1986  2012-04-27       None     NURRAN   \n",
       "2       6672  2011-08-31      None  VIC2862  2012-04-27       None   WOORNDOO   \n",
       "3       6673  2011-08-31      None   VIC734  2018-08-03       None   DEPTFORD   \n",
       "4       6674  2011-08-31      None  VIC2900  2012-04-27       None      YANAC   \n",
       "\n",
       "  VIC_LOCA_3 VIC_LOCA_4 VIC_LOCA_5 VIC_LOCA_6 VIC_LOCA_7  \\\n",
       "0                                G       None          2   \n",
       "1                                G       None          2   \n",
       "2                                G       None          2   \n",
       "3                                G       None          2   \n",
       "4                                G       None          2   \n",
       "\n",
       "                                              coords  \n",
       "0  [(141.74552399, -35.07228701), (141.74552471, ...  \n",
       "1  [(148.668767, -37.39571245), (148.66876202, -3...  \n",
       "2  [(142.92287999, -37.97885997), (142.90449196, ...  \n",
       "3  [(147.82335712, -37.66000897), (147.8231274, -...  \n",
       "4  [(141.279783, -35.99858911), (141.27988533, -3...  "
      ]
     },
     "execution_count": 31,
     "metadata": {},
     "output_type": "execute_result"
    }
   ],
   "source": [
    "# read shapefile\n",
    "sf = shp.Reader(\"VIC_LOCALITY_POLYGON_shp.shp\")\n",
    "\n",
    "# taking the shapefile's field names omitting the first psuedo field\n",
    "fields = [x[0] for x in sf.fields][1:]\n",
    "records = sf.records()\n",
    "shps = [s.points for s in sf.shapes()]\n",
    "\n",
    "#write the records into a dataframe\n",
    "shapefile_dataframe = pd.DataFrame(columns=fields, data=records)\n",
    "\n",
    "#add the coordinate data to a column called \"coords\"\n",
    "shapefile_dataframe = shapefile_dataframe.assign(coords=shps)\n",
    "shapefile_dataframe.head()"
   ]
  },
  {
   "cell_type": "markdown",
   "metadata": {},
   "source": [
    "Check size of the shapefile dataframe and the count of unique values in the 'VIC_LOCA_2' column which corresponds to the suburb/locality name"
   ]
  },
  {
   "cell_type": "code",
   "execution_count": 32,
   "metadata": {},
   "outputs": [
    {
     "name": "stdout",
     "output_type": "stream",
     "text": [
      "Rows in dataframe :  2973 \n",
      "Unique values in 'VIC_LOCA_2' column :  2957\n"
     ]
    }
   ],
   "source": [
    "print(\"Rows in dataframe : \", len(shapefile_dataframe), \"\\nUnique values in 'VIC_LOCA_2' column : \", len(shapefile_dataframe[\"VIC_LOCA_2\"].unique()))"
   ]
  },
  {
   "cell_type": "markdown",
   "metadata": {},
   "source": [
    "Create new dataframe extracting the suburb column from the shapefile dataframe for convenient processing"
   ]
  },
  {
   "cell_type": "code",
   "execution_count": 33,
   "metadata": {},
   "outputs": [
    {
     "name": "stdout",
     "output_type": "stream",
     "text": [
      "2973\n"
     ]
    },
    {
     "data": {
      "text/html": [
       "<div>\n",
       "<style scoped>\n",
       "    .dataframe tbody tr th:only-of-type {\n",
       "        vertical-align: middle;\n",
       "    }\n",
       "\n",
       "    .dataframe tbody tr th {\n",
       "        vertical-align: top;\n",
       "    }\n",
       "\n",
       "    .dataframe thead th {\n",
       "        text-align: right;\n",
       "    }\n",
       "</style>\n",
       "<table border=\"1\" class=\"dataframe\">\n",
       "  <thead>\n",
       "    <tr style=\"text-align: right;\">\n",
       "      <th></th>\n",
       "      <th>VIC_LOCA_2</th>\n",
       "    </tr>\n",
       "  </thead>\n",
       "  <tbody>\n",
       "    <tr>\n",
       "      <th>0</th>\n",
       "      <td>UNDERBOOL</td>\n",
       "    </tr>\n",
       "    <tr>\n",
       "      <th>1</th>\n",
       "      <td>NURRAN</td>\n",
       "    </tr>\n",
       "    <tr>\n",
       "      <th>2</th>\n",
       "      <td>WOORNDOO</td>\n",
       "    </tr>\n",
       "  </tbody>\n",
       "</table>\n",
       "</div>"
      ],
      "text/plain": [
       "  VIC_LOCA_2\n",
       "0  UNDERBOOL\n",
       "1     NURRAN\n",
       "2   WOORNDOO"
      ]
     },
     "execution_count": 33,
     "metadata": {},
     "output_type": "execute_result"
    }
   ],
   "source": [
    "suburbs = shapefile_dataframe[[\"VIC_LOCA_2\"]]\n",
    "suburbs['VIC_LOCA_2'].str.title()\n",
    "print(len(suburbs))\n",
    "suburbs.head(3)"
   ]
  },
  {
   "cell_type": "markdown",
   "metadata": {},
   "source": [
    "Rename the column"
   ]
  },
  {
   "cell_type": "code",
   "execution_count": 34,
   "metadata": {},
   "outputs": [
    {
     "name": "stderr",
     "output_type": "stream",
     "text": [
      "C:\\Users\\wathm\\Anaconda\\lib\\site-packages\\pandas\\core\\frame.py:4025: SettingWithCopyWarning: \n",
      "A value is trying to be set on a copy of a slice from a DataFrame\n",
      "\n",
      "See the caveats in the documentation: http://pandas.pydata.org/pandas-docs/stable/indexing.html#indexing-view-versus-copy\n",
      "  return super(DataFrame, self).rename(**kwargs)\n"
     ]
    }
   ],
   "source": [
    "suburbs.rename(columns={'VIC_LOCA_2':'Suburb'}, inplace=True)"
   ]
  },
  {
   "cell_type": "markdown",
   "metadata": {},
   "source": [
    "Create new dataframe from 'median_comparison_df' to only include the 'SuburbPostcode', 'SuburbScore' and 'Indicator' columns"
   ]
  },
  {
   "cell_type": "code",
   "execution_count": 35,
   "metadata": {},
   "outputs": [
    {
     "data": {
      "text/html": [
       "<div>\n",
       "<style scoped>\n",
       "    .dataframe tbody tr th:only-of-type {\n",
       "        vertical-align: middle;\n",
       "    }\n",
       "\n",
       "    .dataframe tbody tr th {\n",
       "        vertical-align: top;\n",
       "    }\n",
       "\n",
       "    .dataframe thead th {\n",
       "        text-align: right;\n",
       "    }\n",
       "</style>\n",
       "<table border=\"1\" class=\"dataframe\">\n",
       "  <thead>\n",
       "    <tr style=\"text-align: right;\">\n",
       "      <th></th>\n",
       "      <th>SuburbPostcode</th>\n",
       "      <th>SuburbScore</th>\n",
       "      <th>Indicator</th>\n",
       "      <th>Suburb</th>\n",
       "      <th>Postcode</th>\n",
       "    </tr>\n",
       "  </thead>\n",
       "  <tbody>\n",
       "    <tr>\n",
       "      <th>0</th>\n",
       "      <td>Abbeyard, 3737</td>\n",
       "      <td>0.0</td>\n",
       "      <td>Safe</td>\n",
       "      <td>ABBEYARD</td>\n",
       "      <td>3737</td>\n",
       "    </tr>\n",
       "    <tr>\n",
       "      <th>1</th>\n",
       "      <td>Abbotsford, 3067</td>\n",
       "      <td>1.6</td>\n",
       "      <td>Unsafe</td>\n",
       "      <td>ABBOTSFORD</td>\n",
       "      <td>3067</td>\n",
       "    </tr>\n",
       "    <tr>\n",
       "      <th>2</th>\n",
       "      <td>Aberfeldie, 3040</td>\n",
       "      <td>0.0</td>\n",
       "      <td>Safe</td>\n",
       "      <td>ABERFELDIE</td>\n",
       "      <td>3040</td>\n",
       "    </tr>\n",
       "  </tbody>\n",
       "</table>\n",
       "</div>"
      ],
      "text/plain": [
       "     SuburbPostcode  SuburbScore Indicator      Suburb Postcode\n",
       "0    Abbeyard, 3737          0.0      Safe    ABBEYARD     3737\n",
       "1  Abbotsford, 3067          1.6    Unsafe  ABBOTSFORD     3067\n",
       "2  Aberfeldie, 3040          0.0      Safe  ABERFELDIE     3040"
      ]
     },
     "execution_count": 35,
     "metadata": {},
     "output_type": "execute_result"
    }
   ],
   "source": [
    "mc_edit_df = median_comparison_df[['SuburbPostcode','SuburbScore','Indicator']]\n",
    "\n",
    "# Split SuburbPostcode column to two as Suburb and Postcode\n",
    "mc_edit_df[['Suburb','Postcode']] = mc_edit_df['SuburbPostcode'].str.split(\", \",expand=True,)\n",
    "\n",
    "# Convert 'Suburb' column to uppercase\n",
    "mc_edit_df['Suburb'] = mc_edit_df['Suburb'].str.upper()\n",
    "mc_edit_df.head(3)"
   ]
  },
  {
   "cell_type": "markdown",
   "metadata": {},
   "source": [
    "Merge 'mc_edit_df' with 'suburbs' dataframe to combine the information"
   ]
  },
  {
   "cell_type": "code",
   "execution_count": 36,
   "metadata": {},
   "outputs": [
    {
     "data": {
      "text/html": [
       "<div>\n",
       "<style scoped>\n",
       "    .dataframe tbody tr th:only-of-type {\n",
       "        vertical-align: middle;\n",
       "    }\n",
       "\n",
       "    .dataframe tbody tr th {\n",
       "        vertical-align: top;\n",
       "    }\n",
       "\n",
       "    .dataframe thead th {\n",
       "        text-align: right;\n",
       "    }\n",
       "</style>\n",
       "<table border=\"1\" class=\"dataframe\">\n",
       "  <thead>\n",
       "    <tr style=\"text-align: right;\">\n",
       "      <th></th>\n",
       "      <th>Suburb</th>\n",
       "      <th>SuburbPostcode</th>\n",
       "      <th>SuburbScore</th>\n",
       "      <th>Indicator</th>\n",
       "      <th>Postcode</th>\n",
       "    </tr>\n",
       "  </thead>\n",
       "  <tbody>\n",
       "    <tr>\n",
       "      <th>0</th>\n",
       "      <td>UNDERBOOL</td>\n",
       "      <td>Underbool, 3509</td>\n",
       "      <td>0.0</td>\n",
       "      <td>Safe</td>\n",
       "      <td>3509</td>\n",
       "    </tr>\n",
       "    <tr>\n",
       "      <th>1</th>\n",
       "      <td>NURRAN</td>\n",
       "      <td>NaN</td>\n",
       "      <td>NaN</td>\n",
       "      <td>NaN</td>\n",
       "      <td>NaN</td>\n",
       "    </tr>\n",
       "    <tr>\n",
       "      <th>2</th>\n",
       "      <td>WOORNDOO</td>\n",
       "      <td>Woorndoo, 3272</td>\n",
       "      <td>0.0</td>\n",
       "      <td>Safe</td>\n",
       "      <td>3272</td>\n",
       "    </tr>\n",
       "  </tbody>\n",
       "</table>\n",
       "</div>"
      ],
      "text/plain": [
       "      Suburb   SuburbPostcode  SuburbScore Indicator Postcode\n",
       "0  UNDERBOOL  Underbool, 3509          0.0      Safe     3509\n",
       "1     NURRAN              NaN          NaN       NaN      NaN\n",
       "2   WOORNDOO   Woorndoo, 3272          0.0      Safe     3272"
      ]
     },
     "execution_count": 36,
     "metadata": {},
     "output_type": "execute_result"
    }
   ],
   "source": [
    "mc_df_2 = suburbs.merge(mc_edit_df, on='Suburb', how='outer')\n",
    "mc_df_2.head(3)\n"
   ]
  },
  {
   "cell_type": "markdown",
   "metadata": {},
   "source": [
    "Check a few random suburb names to verify whether the data is coming through properly"
   ]
  },
  {
   "cell_type": "code",
   "execution_count": 37,
   "metadata": {},
   "outputs": [
    {
     "data": {
      "text/html": [
       "<div>\n",
       "<style scoped>\n",
       "    .dataframe tbody tr th:only-of-type {\n",
       "        vertical-align: middle;\n",
       "    }\n",
       "\n",
       "    .dataframe tbody tr th {\n",
       "        vertical-align: top;\n",
       "    }\n",
       "\n",
       "    .dataframe thead th {\n",
       "        text-align: right;\n",
       "    }\n",
       "</style>\n",
       "<table border=\"1\" class=\"dataframe\">\n",
       "  <thead>\n",
       "    <tr style=\"text-align: right;\">\n",
       "      <th></th>\n",
       "      <th>Suburb</th>\n",
       "      <th>SuburbPostcode</th>\n",
       "      <th>SuburbScore</th>\n",
       "      <th>Indicator</th>\n",
       "      <th>Postcode</th>\n",
       "    </tr>\n",
       "  </thead>\n",
       "  <tbody>\n",
       "    <tr>\n",
       "      <th>2179</th>\n",
       "      <td>KINGS PARK</td>\n",
       "      <td>Kings Park, 3021</td>\n",
       "      <td>0.0</td>\n",
       "      <td>Safe</td>\n",
       "      <td>3021</td>\n",
       "    </tr>\n",
       "  </tbody>\n",
       "</table>\n",
       "</div>"
      ],
      "text/plain": [
       "          Suburb    SuburbPostcode  SuburbScore Indicator Postcode\n",
       "2179  KINGS PARK  Kings Park, 3021          0.0      Safe     3021"
      ]
     },
     "execution_count": 37,
     "metadata": {},
     "output_type": "execute_result"
    }
   ],
   "source": [
    "mc_df_2[mc_df_2[\"Suburb\"]==\"KINGS PARK\"]"
   ]
  },
  {
   "cell_type": "code",
   "execution_count": 38,
   "metadata": {},
   "outputs": [
    {
     "data": {
      "text/html": [
       "<div>\n",
       "<style scoped>\n",
       "    .dataframe tbody tr th:only-of-type {\n",
       "        vertical-align: middle;\n",
       "    }\n",
       "\n",
       "    .dataframe tbody tr th {\n",
       "        vertical-align: top;\n",
       "    }\n",
       "\n",
       "    .dataframe thead th {\n",
       "        text-align: right;\n",
       "    }\n",
       "</style>\n",
       "<table border=\"1\" class=\"dataframe\">\n",
       "  <thead>\n",
       "    <tr style=\"text-align: right;\">\n",
       "      <th></th>\n",
       "      <th>Suburb</th>\n",
       "      <th>SuburbPostcode</th>\n",
       "      <th>SuburbScore</th>\n",
       "      <th>Indicator</th>\n",
       "      <th>Postcode</th>\n",
       "    </tr>\n",
       "  </thead>\n",
       "  <tbody>\n",
       "    <tr>\n",
       "      <th>536</th>\n",
       "      <td>ALBANVALE</td>\n",
       "      <td>Albanvale, 3021</td>\n",
       "      <td>0.0</td>\n",
       "      <td>Safe</td>\n",
       "      <td>3021</td>\n",
       "    </tr>\n",
       "  </tbody>\n",
       "</table>\n",
       "</div>"
      ],
      "text/plain": [
       "        Suburb   SuburbPostcode  SuburbScore Indicator Postcode\n",
       "536  ALBANVALE  Albanvale, 3021          0.0      Safe     3021"
      ]
     },
     "execution_count": 38,
     "metadata": {},
     "output_type": "execute_result"
    }
   ],
   "source": [
    "mc_df_2[mc_df_2[\"Suburb\"]==\"ALBANVALE\"]"
   ]
  },
  {
   "cell_type": "code",
   "execution_count": 39,
   "metadata": {},
   "outputs": [
    {
     "data": {
      "text/html": [
       "<div>\n",
       "<style scoped>\n",
       "    .dataframe tbody tr th:only-of-type {\n",
       "        vertical-align: middle;\n",
       "    }\n",
       "\n",
       "    .dataframe tbody tr th {\n",
       "        vertical-align: top;\n",
       "    }\n",
       "\n",
       "    .dataframe thead th {\n",
       "        text-align: right;\n",
       "    }\n",
       "</style>\n",
       "<table border=\"1\" class=\"dataframe\">\n",
       "  <thead>\n",
       "    <tr style=\"text-align: right;\">\n",
       "      <th></th>\n",
       "      <th>Suburb</th>\n",
       "      <th>SuburbPostcode</th>\n",
       "      <th>SuburbScore</th>\n",
       "      <th>Indicator</th>\n",
       "      <th>Postcode</th>\n",
       "    </tr>\n",
       "  </thead>\n",
       "  <tbody>\n",
       "    <tr>\n",
       "      <th>958</th>\n",
       "      <td>KEALBA</td>\n",
       "      <td>Kealba, 3021</td>\n",
       "      <td>0.0</td>\n",
       "      <td>Safe</td>\n",
       "      <td>3021</td>\n",
       "    </tr>\n",
       "  </tbody>\n",
       "</table>\n",
       "</div>"
      ],
      "text/plain": [
       "     Suburb SuburbPostcode  SuburbScore Indicator Postcode\n",
       "958  KEALBA   Kealba, 3021          0.0      Safe     3021"
      ]
     },
     "execution_count": 39,
     "metadata": {},
     "output_type": "execute_result"
    }
   ],
   "source": [
    "mc_df_2[mc_df_2[\"Suburb\"]==\"KEALBA\"]"
   ]
  },
  {
   "cell_type": "code",
   "execution_count": 40,
   "metadata": {},
   "outputs": [
    {
     "data": {
      "text/plain": [
       "3007"
      ]
     },
     "execution_count": 40,
     "metadata": {},
     "output_type": "execute_result"
    }
   ],
   "source": [
    "len(mc_df_2)"
   ]
  },
  {
   "cell_type": "markdown",
   "metadata": {},
   "source": [
    "Assign group to each suburb record in the dataset as follows.\n",
    "\n",
    "* Suburbscore between 0 and 3 - group1\n",
    "* Suburbscore between 3 and 6 - group2\n",
    "* Suburbscore between 6 and above - group3\n"
   ]
  },
  {
   "cell_type": "code",
   "execution_count": 41,
   "metadata": {},
   "outputs": [
    {
     "data": {
      "text/html": [
       "<div>\n",
       "<style scoped>\n",
       "    .dataframe tbody tr th:only-of-type {\n",
       "        vertical-align: middle;\n",
       "    }\n",
       "\n",
       "    .dataframe tbody tr th {\n",
       "        vertical-align: top;\n",
       "    }\n",
       "\n",
       "    .dataframe thead th {\n",
       "        text-align: right;\n",
       "    }\n",
       "</style>\n",
       "<table border=\"1\" class=\"dataframe\">\n",
       "  <thead>\n",
       "    <tr style=\"text-align: right;\">\n",
       "      <th></th>\n",
       "      <th>Suburb</th>\n",
       "      <th>SuburbPostcode</th>\n",
       "      <th>SuburbScore</th>\n",
       "      <th>Indicator</th>\n",
       "      <th>Postcode</th>\n",
       "      <th>Group</th>\n",
       "    </tr>\n",
       "  </thead>\n",
       "  <tbody>\n",
       "    <tr>\n",
       "      <th>0</th>\n",
       "      <td>UNDERBOOL</td>\n",
       "      <td>Underbool, 3509</td>\n",
       "      <td>0.0</td>\n",
       "      <td>Safe</td>\n",
       "      <td>3509</td>\n",
       "      <td>1</td>\n",
       "    </tr>\n",
       "    <tr>\n",
       "      <th>1</th>\n",
       "      <td>NURRAN</td>\n",
       "      <td>NaN</td>\n",
       "      <td>NaN</td>\n",
       "      <td>NaN</td>\n",
       "      <td>NaN</td>\n",
       "      <td>0</td>\n",
       "    </tr>\n",
       "    <tr>\n",
       "      <th>2</th>\n",
       "      <td>WOORNDOO</td>\n",
       "      <td>Woorndoo, 3272</td>\n",
       "      <td>0.0</td>\n",
       "      <td>Safe</td>\n",
       "      <td>3272</td>\n",
       "      <td>1</td>\n",
       "    </tr>\n",
       "    <tr>\n",
       "      <th>3</th>\n",
       "      <td>DEPTFORD</td>\n",
       "      <td>NaN</td>\n",
       "      <td>NaN</td>\n",
       "      <td>NaN</td>\n",
       "      <td>NaN</td>\n",
       "      <td>0</td>\n",
       "    </tr>\n",
       "    <tr>\n",
       "      <th>4</th>\n",
       "      <td>YANAC</td>\n",
       "      <td>Yanac, 3418</td>\n",
       "      <td>0.0</td>\n",
       "      <td>Safe</td>\n",
       "      <td>3418</td>\n",
       "      <td>1</td>\n",
       "    </tr>\n",
       "  </tbody>\n",
       "</table>\n",
       "</div>"
      ],
      "text/plain": [
       "      Suburb   SuburbPostcode  SuburbScore Indicator Postcode  Group\n",
       "0  UNDERBOOL  Underbool, 3509          0.0      Safe     3509      1\n",
       "1     NURRAN              NaN          NaN       NaN      NaN      0\n",
       "2   WOORNDOO   Woorndoo, 3272          0.0      Safe     3272      1\n",
       "3   DEPTFORD              NaN          NaN       NaN      NaN      0\n",
       "4      YANAC      Yanac, 3418          0.0      Safe     3418      1"
      ]
     },
     "execution_count": 41,
     "metadata": {},
     "output_type": "execute_result"
    }
   ],
   "source": [
    "group_list = []\n",
    "\n",
    "for i, row in mc_df_2.iterrows():\n",
    "    if (mc_df_2[\"SuburbScore\"][i]>=0) & (mc_df_2[\"SuburbScore\"][i]<3):\n",
    "        group_list.append(1)\n",
    "    elif (mc_df_2[\"SuburbScore\"][i]>=3) & (mc_df_2[\"SuburbScore\"][i]<6):\n",
    "        group_list.append(2)\n",
    "    elif (mc_df_2[\"SuburbScore\"][i]>=6)& (mc_df_2[\"SuburbScore\"][i]<10):\n",
    "        group_list.append(3)\n",
    "    else:\n",
    "        group_list.append(0)\n",
    "        \n",
    "mc_df_2['Group'] = pd.Series(group_list).values \n",
    "mc_df_2.head(5)"
   ]
  },
  {
   "cell_type": "markdown",
   "metadata": {},
   "source": [
    "Replace the NaN values in SuburbScore with 'Score Unavailable' and NaN values in 'Indicator' with 'Data Unavailable'"
   ]
  },
  {
   "cell_type": "code",
   "execution_count": 42,
   "metadata": {},
   "outputs": [
    {
     "data": {
      "text/html": [
       "<div>\n",
       "<style scoped>\n",
       "    .dataframe tbody tr th:only-of-type {\n",
       "        vertical-align: middle;\n",
       "    }\n",
       "\n",
       "    .dataframe tbody tr th {\n",
       "        vertical-align: top;\n",
       "    }\n",
       "\n",
       "    .dataframe thead th {\n",
       "        text-align: right;\n",
       "    }\n",
       "</style>\n",
       "<table border=\"1\" class=\"dataframe\">\n",
       "  <thead>\n",
       "    <tr style=\"text-align: right;\">\n",
       "      <th></th>\n",
       "      <th>Suburb</th>\n",
       "      <th>SuburbPostcode</th>\n",
       "      <th>SuburbScore</th>\n",
       "      <th>Indicator</th>\n",
       "      <th>Postcode</th>\n",
       "      <th>Group</th>\n",
       "    </tr>\n",
       "  </thead>\n",
       "  <tbody>\n",
       "    <tr>\n",
       "      <th>0</th>\n",
       "      <td>UNDERBOOL</td>\n",
       "      <td>Underbool, 3509</td>\n",
       "      <td>0</td>\n",
       "      <td>Safe</td>\n",
       "      <td>3509</td>\n",
       "      <td>1</td>\n",
       "    </tr>\n",
       "    <tr>\n",
       "      <th>1</th>\n",
       "      <td>NURRAN</td>\n",
       "      <td>NaN</td>\n",
       "      <td>Score Unavailable</td>\n",
       "      <td>Data Unavailable</td>\n",
       "      <td>NaN</td>\n",
       "      <td>0</td>\n",
       "    </tr>\n",
       "  </tbody>\n",
       "</table>\n",
       "</div>"
      ],
      "text/plain": [
       "      Suburb   SuburbPostcode        SuburbScore         Indicator Postcode  \\\n",
       "0  UNDERBOOL  Underbool, 3509                  0              Safe     3509   \n",
       "1     NURRAN              NaN  Score Unavailable  Data Unavailable      NaN   \n",
       "\n",
       "   Group  \n",
       "0      1  \n",
       "1      0  "
      ]
     },
     "execution_count": 42,
     "metadata": {},
     "output_type": "execute_result"
    }
   ],
   "source": [
    "mc_df_2[\"SuburbScore\"].fillna('Score Unavailable', inplace=True)\n",
    "mc_df_2[\"Indicator\"].fillna('Data Unavailable', inplace=True)\n",
    "\n",
    "# Drop duplicates\n",
    "mc_df_2= mc_df_2.drop_duplicates()\n",
    "mc_df_2.head(2)"
   ]
  },
  {
   "cell_type": "code",
   "execution_count": 43,
   "metadata": {},
   "outputs": [
    {
     "data": {
      "text/plain": [
       "2982"
      ]
     },
     "execution_count": 43,
     "metadata": {},
     "output_type": "execute_result"
    }
   ],
   "source": [
    "mc_df_2 = mc_df_2[~mc_df_2['Postcode'].isin(['3004','3005'])]\n",
    "len(mc_df_2)\n",
    " \n",
    "# # Delete these row indexes from dataFrame\n",
    "# dfObj.drop(indexNames , inplace=True)"
   ]
  },
  {
   "cell_type": "code",
   "execution_count": 44,
   "metadata": {},
   "outputs": [
    {
     "data": {
      "text/html": [
       "<div>\n",
       "<style scoped>\n",
       "    .dataframe tbody tr th:only-of-type {\n",
       "        vertical-align: middle;\n",
       "    }\n",
       "\n",
       "    .dataframe tbody tr th {\n",
       "        vertical-align: top;\n",
       "    }\n",
       "\n",
       "    .dataframe thead th {\n",
       "        text-align: right;\n",
       "    }\n",
       "</style>\n",
       "<table border=\"1\" class=\"dataframe\">\n",
       "  <thead>\n",
       "    <tr style=\"text-align: right;\">\n",
       "      <th></th>\n",
       "      <th>Suburb</th>\n",
       "      <th>SuburbPostcode</th>\n",
       "      <th>SuburbScore</th>\n",
       "      <th>Indicator</th>\n",
       "      <th>Postcode</th>\n",
       "      <th>Group</th>\n",
       "    </tr>\n",
       "  </thead>\n",
       "  <tbody>\n",
       "    <tr>\n",
       "      <th>2179</th>\n",
       "      <td>KINGS PARK</td>\n",
       "      <td>Kings Park, 3021</td>\n",
       "      <td>0</td>\n",
       "      <td>Safe</td>\n",
       "      <td>3021</td>\n",
       "      <td>1</td>\n",
       "    </tr>\n",
       "  </tbody>\n",
       "</table>\n",
       "</div>"
      ],
      "text/plain": [
       "          Suburb    SuburbPostcode SuburbScore Indicator Postcode  Group\n",
       "2179  KINGS PARK  Kings Park, 3021           0      Safe     3021      1"
      ]
     },
     "execution_count": 44,
     "metadata": {},
     "output_type": "execute_result"
    }
   ],
   "source": [
    "mc_df_2[mc_df_2[\"Suburb\"]==\"KINGS PARK\"]"
   ]
  },
  {
   "cell_type": "code",
   "execution_count": 45,
   "metadata": {},
   "outputs": [],
   "source": [
    "mc_df_2[mc_df_2[\"Suburb\"]==\"St Albans\"]\n",
    "mc_df_2=mc_df_2.drop([1013])\n",
    "mc_df_2=mc_df_2.drop(['Indicator'], axis = 1)"
   ]
  },
  {
   "cell_type": "code",
   "execution_count": 46,
   "metadata": {},
   "outputs": [
    {
     "data": {
      "text/html": [
       "<div>\n",
       "<style scoped>\n",
       "    .dataframe tbody tr th:only-of-type {\n",
       "        vertical-align: middle;\n",
       "    }\n",
       "\n",
       "    .dataframe tbody tr th {\n",
       "        vertical-align: top;\n",
       "    }\n",
       "\n",
       "    .dataframe thead th {\n",
       "        text-align: right;\n",
       "    }\n",
       "</style>\n",
       "<table border=\"1\" class=\"dataframe\">\n",
       "  <thead>\n",
       "    <tr style=\"text-align: right;\">\n",
       "      <th></th>\n",
       "      <th>Suburb</th>\n",
       "      <th>SuburbPostcode</th>\n",
       "      <th>SuburbScore</th>\n",
       "      <th>Postcode</th>\n",
       "      <th>Group</th>\n",
       "    </tr>\n",
       "  </thead>\n",
       "  <tbody>\n",
       "    <tr>\n",
       "      <th>0</th>\n",
       "      <td>UNDERBOOL</td>\n",
       "      <td>Underbool, 3509</td>\n",
       "      <td>0</td>\n",
       "      <td>3509</td>\n",
       "      <td>1</td>\n",
       "    </tr>\n",
       "    <tr>\n",
       "      <th>1</th>\n",
       "      <td>NURRAN</td>\n",
       "      <td>NaN</td>\n",
       "      <td>Score Unavailable</td>\n",
       "      <td>NaN</td>\n",
       "      <td>0</td>\n",
       "    </tr>\n",
       "    <tr>\n",
       "      <th>2</th>\n",
       "      <td>WOORNDOO</td>\n",
       "      <td>Woorndoo, 3272</td>\n",
       "      <td>0</td>\n",
       "      <td>3272</td>\n",
       "      <td>1</td>\n",
       "    </tr>\n",
       "    <tr>\n",
       "      <th>3</th>\n",
       "      <td>DEPTFORD</td>\n",
       "      <td>NaN</td>\n",
       "      <td>Score Unavailable</td>\n",
       "      <td>NaN</td>\n",
       "      <td>0</td>\n",
       "    </tr>\n",
       "    <tr>\n",
       "      <th>4</th>\n",
       "      <td>YANAC</td>\n",
       "      <td>Yanac, 3418</td>\n",
       "      <td>0</td>\n",
       "      <td>3418</td>\n",
       "      <td>1</td>\n",
       "    </tr>\n",
       "  </tbody>\n",
       "</table>\n",
       "</div>"
      ],
      "text/plain": [
       "      Suburb   SuburbPostcode        SuburbScore Postcode  Group\n",
       "0  UNDERBOOL  Underbool, 3509                  0     3509      1\n",
       "1     NURRAN              NaN  Score Unavailable      NaN      0\n",
       "2   WOORNDOO   Woorndoo, 3272                  0     3272      1\n",
       "3   DEPTFORD              NaN  Score Unavailable      NaN      0\n",
       "4      YANAC      Yanac, 3418                  0     3418      1"
      ]
     },
     "execution_count": 46,
     "metadata": {},
     "output_type": "execute_result"
    }
   ],
   "source": [
    "mc_df_2['Suburb'] = mc_df_2['Suburb'].str.upper()\n",
    "mc_df_2.head()"
   ]
  },
  {
   "cell_type": "markdown",
   "metadata": {},
   "source": [
    "Create the final dataset only including the suburb and score group"
   ]
  },
  {
   "cell_type": "code",
   "execution_count": 47,
   "metadata": {},
   "outputs": [
    {
     "data": {
      "text/html": [
       "<div>\n",
       "<style scoped>\n",
       "    .dataframe tbody tr th:only-of-type {\n",
       "        vertical-align: middle;\n",
       "    }\n",
       "\n",
       "    .dataframe tbody tr th {\n",
       "        vertical-align: top;\n",
       "    }\n",
       "\n",
       "    .dataframe thead th {\n",
       "        text-align: right;\n",
       "    }\n",
       "</style>\n",
       "<table border=\"1\" class=\"dataframe\">\n",
       "  <thead>\n",
       "    <tr style=\"text-align: right;\">\n",
       "      <th></th>\n",
       "      <th>SUBURB</th>\n",
       "      <th>GROUP</th>\n",
       "    </tr>\n",
       "  </thead>\n",
       "  <tbody>\n",
       "    <tr>\n",
       "      <th>0</th>\n",
       "      <td>UNDERBOOL</td>\n",
       "      <td>1</td>\n",
       "    </tr>\n",
       "    <tr>\n",
       "      <th>1</th>\n",
       "      <td>NURRAN</td>\n",
       "      <td>0</td>\n",
       "    </tr>\n",
       "    <tr>\n",
       "      <th>2</th>\n",
       "      <td>WOORNDOO</td>\n",
       "      <td>1</td>\n",
       "    </tr>\n",
       "  </tbody>\n",
       "</table>\n",
       "</div>"
      ],
      "text/plain": [
       "      SUBURB  GROUP\n",
       "0  UNDERBOOL      1\n",
       "1     NURRAN      0\n",
       "2   WOORNDOO      1"
      ]
     },
     "execution_count": 47,
     "metadata": {},
     "output_type": "execute_result"
    }
   ],
   "source": [
    "mc_df_2=mc_df_2[['Suburb','Group']]\n",
    "mc_df_2.rename(columns={'Suburb':'SUBURB','Group':'GROUP'}, inplace=True)\n",
    "mc_df_2.head(3)"
   ]
  },
  {
   "cell_type": "markdown",
   "metadata": {},
   "source": [
    "Export dataset as CSV file"
   ]
  },
  {
   "cell_type": "code",
   "execution_count": 49,
   "metadata": {},
   "outputs": [],
   "source": [
    "mc_df_2.to_csv(\"SAFETY_EXPORT.csv\", index=False)"
   ]
  },
  {
   "cell_type": "markdown",
   "metadata": {},
   "source": [
    "-----------------------------------------------------------------------------------------------"
   ]
  },
  {
   "cell_type": "markdown",
   "metadata": {},
   "source": [
    "#### Export files produced\n",
    "\n",
    "* lga_suburb_export--> Contains the LGA, Suburb and Postcode information\n",
    "\n",
    "* SAFETY_EXPORT -->  Contains the safety indicator group for each suburb\n",
    "\n",
    "* lga_crimes_export.csv --> Contains the LGA, Location and percentage of crimes\n"
   ]
  },
  {
   "cell_type": "markdown",
   "metadata": {},
   "source": [
    "---------------------------------------------"
   ]
  },
  {
   "cell_type": "markdown",
   "metadata": {},
   "source": [
    "## End of data wrangling process for iteration 02, continued from iteration 01"
   ]
  }
 ],
 "metadata": {
  "kernelspec": {
   "display_name": "Python 3",
   "language": "python",
   "name": "python3"
  },
  "language_info": {
   "codemirror_mode": {
    "name": "ipython",
    "version": 3
   },
   "file_extension": ".py",
   "mimetype": "text/x-python",
   "name": "python",
   "nbconvert_exporter": "python",
   "pygments_lexer": "ipython3",
   "version": "3.6.7"
  }
 },
 "nbformat": 4,
 "nbformat_minor": 2
}
